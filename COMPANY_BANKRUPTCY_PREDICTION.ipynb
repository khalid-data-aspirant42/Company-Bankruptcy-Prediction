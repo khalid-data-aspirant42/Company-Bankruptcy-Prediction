{
  "cells": [
    {
      "cell_type": "markdown",
      "metadata": {
        "id": "LGcl5Bv9ed6u"
      },
      "source": [
        "# **Problem Statement**"
      ]
    },
    {
      "cell_type": "markdown",
      "metadata": {
        "id": "BVqiQpgOgBxB"
      },
      "source": [
        "Prediction of bankruptcy is a phenomenon of increasing interest to firms who\n",
        "stand to loose money because on unpaid debts. Since computers can store huge dataset\n",
        "pertaining to bankruptcy making accurate predictions from them before hand is becoming\n",
        "important. \n",
        "\n",
        "The data were collected from the Taiwan Economic Journal for the years 1999 to 2009. Company bankruptcy was defined based on the business regulations of the Taiwan Stock Exchange.\n",
        "\n",
        " In this project you will use various classification algorithms on bankruptcy\n",
        "dataset to predict bankruptcies with satisfying accuracies long before the actual event."
      ]
    },
    {
      "cell_type": "markdown",
      "metadata": {
        "id": "AzGDqdC4fZ-b"
      },
      "source": [
        "# **Attribute Information**"
      ]
    },
    {
      "cell_type": "markdown",
      "metadata": {
        "id": "3qiYAbXrejna"
      },
      "source": [
        "Updated column names and description to make the data easier to understand (Y = Output feature, X = Input features)\n",
        "\n",
        "Y - Bankrupt?: Class label 1 : Yes , 0: No \n",
        "\n",
        "X1 - ROA(C) before interest and depreciation before interest: Return On Total Assets(C)\n",
        "\n",
        "X2 - ROA(A) before interest and % after tax: Return On Total Assets(A)\n",
        "\n",
        "X3 - ROA(B) before interest and depreciation after tax: Return On Total Assets(B)\n",
        "\n",
        "X4 - Operating Gross Margin: Gross Profit/Net Sales\n",
        "\n",
        "X5 - Realized Sales Gross Margin: Realized Gross Profit/Net Sales\n",
        "\n",
        "X6 - Operating Profit Rate: Operating Income/Net Sales\n",
        "\n",
        "X7 - Pre-tax net Interest Rate: Pre-Tax Income/Net Sales\n",
        "\n",
        "X8 - After-tax net Interest Rate: Net Income/Net Sales\n",
        "\n",
        "X9 - Non-industry income and expenditure/revenue: Net Non-operating Income Ratio\n",
        "\n",
        "X10 - Continuous interest rate (after tax): Net Income-Exclude Disposal Gain or Loss/Net Sales\n",
        "\n",
        "X11 - Operating Expense Rate: Operating Expenses/Net Sales\n",
        "\n",
        "X12 - Research and development expense rate: (Research and Development Expenses)/Net Sales\n",
        "\n",
        "X13 - Cash flow rate: Cash Flow from Operating/Current Liabilities\n",
        "\n",
        "X14 - Interest-bearing debt interest rate: Interest-bearing Debt/Equity\n",
        "\n",
        "X15 - Tax rate (A): Effective Tax Rate\n",
        "\n",
        "X16 - Net Value Per Share (B): Book Value Per Share(B)\n",
        "\n",
        "X17 - Net Value Per Share (A): Book Value Per Share(A)\n",
        "\n",
        "X18 - Net Value Per Share (C): Book Value Per Share(C)\n",
        "\n",
        "X19 - Persistent EPS in the Last Four Seasons: EPS-Net Income\n",
        "\n",
        "X20 - Cash Flow Per Share\n",
        "\n",
        "X21 - Revenue Per Share (Yuan ¥): Sales Per Share\n",
        "\n",
        "X22 - Operating Profit Per Share (Yuan ¥): Operating Income Per Share\n",
        "\n",
        "X23 - Per Share Net profit before tax (Yuan ¥): Pretax Income Per Share\n",
        "\n",
        "X24 - Realized Sales Gross Profit Growth Rate\n",
        "\n",
        "X25 - Operating Profit Growth Rate: Operating Income Growth\n",
        "\n",
        "X26 - After-tax Net Profit Growth Rate: Net Income Growth\n",
        "\n",
        "X27 - Regular Net Profit Growth Rate: Continuing Operating Income after Tax Growth\n",
        "\n",
        "X28 - Continuous Net Profit Growth Rate: Net Income-Excluding Disposal Gain or Loss Growth\n",
        "\n",
        "X29 - Total Asset Growth Rate: Total Asset Growth\n",
        "\n",
        "X30 - Net Value Growth Rate: Total Equity Growth\n",
        "\n",
        "X31 - Total Asset Return Growth Rate Ratio: Return on Total Asset Growth\n",
        "\n",
        "X32 - Cash Reinvestment %: Cash Reinvestment Ratio\n",
        "\n",
        "X33 - Current Ratio\n",
        "\n",
        "X34 - Quick Ratio: Acid Test\n",
        "\n",
        "X35 - Interest Expense Ratio: Interest Expenses/Total Revenue\n",
        "\n",
        "X36 - Total debt/Total net worth: Total Liability/Equity Ratio\n",
        "\n",
        "X37 - Debt ratio %: Liability/Total Assets\n",
        "\n",
        "X38 - Net worth/Assets: Equity/Total Assets\n",
        "\n",
        "X39 - Long-term fund suitability ratio (A): (Long-term Liability+Equity)/Fixed Assets\n",
        "\n",
        "X40 - Borrowing dependency: Cost of Interest-bearing Debt\n",
        "\n",
        "X41 - Contingent liabilities/Net worth: Contingent Liability/Equity\n",
        "\n",
        "X42 - Operating profit/Paid-in capital: Operating Income/Capital\n",
        "\n",
        "X43 - Net profit before tax/Paid-in capital: Pretax Income/Capital\n",
        "\n",
        "X44 - Inventory and accounts receivable/Net value: (Inventory+Accounts Receivables)/Equity\n",
        "\n",
        "X45 - Total Asset Turnover\n",
        "\n",
        "X46 - Accounts Receivable Turnover\n",
        "\n",
        "X47 - Average Collection Days: Days Receivable Outstanding\n",
        "\n",
        "X48 - Inventory Turnover Rate (times)\n",
        "\n",
        "X49 - Fixed Assets Turnover Frequency\n",
        "\n",
        "X50 - Net Worth Turnover Rate (times): Equity Turnover\n",
        "\n",
        "X51 - Revenue per person: Sales Per Employee\n",
        "\n",
        "X52 - Operating profit per person: Operation Income Per Employee\n",
        "\n",
        "X53 - Allocation rate per person: Fixed Assets Per Employee\n",
        "\n",
        "X54 - Working Capital to Total Assets\n",
        "\n",
        "X55 - Quick Assets/Total Assets\n",
        "\n",
        "X56 - Current Assets/Total Assets\n",
        "\n",
        "X57 - Cash/Total Assets\n",
        "\n",
        "X58 - Quick Assets/Current Liability\n",
        "\n",
        "X59 - Cash/Current Liability\n",
        "\n",
        "X60 - Current Liability to Assets\n",
        "\n",
        "X61 - Operating Funds to Liability\n",
        "\n",
        "X62 - Inventory/Working Capital\n",
        "\n",
        "X63 - Inventory/Current Liability\n",
        "\n",
        "X64 - Current Liabilities/Liability\n",
        "\n",
        "X65 - Working Capital/Equity\n",
        "\n",
        "X66 - Current Liabilities/Equity\n",
        "\n",
        "X67 - Long-term Liability to Current Assets\n",
        "\n",
        "X68 - Retained Earnings to Total Assets\n",
        "\n",
        "X69 - Total income/Total expense\n",
        "\n",
        "X70 - Total expense/Assets\n",
        "\n",
        "X71 - Current Asset Turnover Rate: Current Assets to Sales\n",
        "\n",
        "X72 - Quick Asset Turnover Rate: Quick Assets to Sales\n",
        "\n",
        "X73 - Working capitcal Turnover Rate: Working Capital to Sales\n",
        "\n",
        "X74 - Cash Turnover Rate: Cash to Sales\n",
        "\n",
        "X75 - Cash Flow to Sales\n",
        "\n",
        "X76 - Fixed Assets to Assets\n",
        "\n",
        "X77 - Current Liability to Liability\n",
        "\n",
        "X78 - Current Liability to Equity\n",
        "\n",
        "X79 - Equity to Long-term Liability\n",
        "\n",
        "X80 - Cash Flow to Total Assets\n",
        "\n",
        "X81 - Cash Flow to Liability\n",
        "\n",
        "X82 - CFO to Assets\n",
        "\n",
        "X83 - Cash Flow to Equity\n",
        "\n",
        "X84 - Current Liability to Current Assets\n",
        "\n",
        "X85 - Liability-Assets Flag: 1 if Total Liability exceeds Total Assets, 0 otherwise\n",
        "\n",
        "X86 - Net Income to Total Assets\n",
        "\n",
        "X87 - Total assets to GNP price\n",
        "\n",
        "X88 - No-credit Interval\n",
        "\n",
        "X89 - Gross Profit to Sales\n",
        "\n",
        "X90 - Net Income to Stockholder's Equity\n",
        "\n",
        "X91 - Liability to Equity\n",
        "\n",
        "X92 - Degree of Financial Leverage (DFL)\n",
        "\n",
        "X93 - Interest Coverage Ratio (Interest expense to EBIT)\n",
        "\n",
        "X94 - Net Income Flag: 1 if Net Income is Negative for the last two years, 0 otherwise\n",
        "\n",
        "X95 - Equity to Liability"
      ]
    },
    {
      "cell_type": "code",
      "execution_count": null,
      "metadata": {
        "id": "-Xk8MJBXmiEg"
      },
      "outputs": [],
      "source": [
        "import pandas as pd\n",
        "import numpy as np\n",
        "pd.set_option('display.max_columns',None)"
      ]
    },
    {
      "cell_type": "code",
      "source": [
        "from google.colab import drive\n",
        "drive.mount('/content/drive')"
      ],
      "metadata": {
        "colab": {
          "base_uri": "https://localhost:8080/"
        },
        "id": "TmErkt0TmoP0",
        "outputId": "420d91c2-6859-4d80-e571-15e45f8adeac"
      },
      "execution_count": null,
      "outputs": [
        {
          "output_type": "stream",
          "name": "stdout",
          "text": [
            "Mounted at /content/drive\n"
          ]
        }
      ]
    },
    {
      "cell_type": "code",
      "execution_count": null,
      "metadata": {
        "id": "SLp1Z3TymiEj"
      },
      "outputs": [],
      "source": [
        "df = pd.read_csv('/content/drive/MyDrive/AlmaBetter/Capstone Project/Project3: Classification/COMPANY BANKRUPTCY PREDICTION.csv')"
      ]
    },
    {
      "cell_type": "code",
      "execution_count": null,
      "metadata": {
        "colab": {
          "base_uri": "https://localhost:8080/"
        },
        "id": "YVT9QqCSmiEl",
        "outputId": "813fb469-98a5-4d8d-f1ee-d97055051861"
      },
      "outputs": [
        {
          "output_type": "execute_result",
          "data": {
            "text/plain": [
              "(6819, 96)"
            ]
          },
          "metadata": {},
          "execution_count": 4
        }
      ],
      "source": [
        "df.shape"
      ]
    },
    {
      "cell_type": "code",
      "execution_count": null,
      "metadata": {
        "colab": {
          "base_uri": "https://localhost:8080/"
        },
        "id": "NEYJsZhpmiEn",
        "outputId": "961af51e-5024-43db-e594-5d4e5ceba012"
      },
      "outputs": [
        {
          "output_type": "execute_result",
          "data": {
            "text/plain": [
              "Index(['Bankrupt?', ' ROA(C) before interest and depreciation before interest',\n",
              "       ' ROA(A) before interest and % after tax',\n",
              "       ' ROA(B) before interest and depreciation after tax',\n",
              "       ' Operating Gross Margin', ' Realized Sales Gross Margin',\n",
              "       ' Operating Profit Rate', ' Pre-tax net Interest Rate',\n",
              "       ' After-tax net Interest Rate',\n",
              "       ' Non-industry income and expenditure/revenue',\n",
              "       ' Continuous interest rate (after tax)', ' Operating Expense Rate',\n",
              "       ' Research and development expense rate', ' Cash flow rate',\n",
              "       ' Interest-bearing debt interest rate', ' Tax rate (A)',\n",
              "       ' Net Value Per Share (B)', ' Net Value Per Share (A)',\n",
              "       ' Net Value Per Share (C)', ' Persistent EPS in the Last Four Seasons',\n",
              "       ' Cash Flow Per Share', ' Revenue Per Share (Yuan ¥)',\n",
              "       ' Operating Profit Per Share (Yuan ¥)',\n",
              "       ' Per Share Net profit before tax (Yuan ¥)',\n",
              "       ' Realized Sales Gross Profit Growth Rate',\n",
              "       ' Operating Profit Growth Rate', ' After-tax Net Profit Growth Rate',\n",
              "       ' Regular Net Profit Growth Rate', ' Continuous Net Profit Growth Rate',\n",
              "       ' Total Asset Growth Rate', ' Net Value Growth Rate',\n",
              "       ' Total Asset Return Growth Rate Ratio', ' Cash Reinvestment %',\n",
              "       ' Current Ratio', ' Quick Ratio', ' Interest Expense Ratio',\n",
              "       ' Total debt/Total net worth', ' Debt ratio %', ' Net worth/Assets',\n",
              "       ' Long-term fund suitability ratio (A)', ' Borrowing dependency',\n",
              "       ' Contingent liabilities/Net worth',\n",
              "       ' Operating profit/Paid-in capital',\n",
              "       ' Net profit before tax/Paid-in capital',\n",
              "       ' Inventory and accounts receivable/Net value', ' Total Asset Turnover',\n",
              "       ' Accounts Receivable Turnover', ' Average Collection Days',\n",
              "       ' Inventory Turnover Rate (times)', ' Fixed Assets Turnover Frequency',\n",
              "       ' Net Worth Turnover Rate (times)', ' Revenue per person',\n",
              "       ' Operating profit per person', ' Allocation rate per person',\n",
              "       ' Working Capital to Total Assets', ' Quick Assets/Total Assets',\n",
              "       ' Current Assets/Total Assets', ' Cash/Total Assets',\n",
              "       ' Quick Assets/Current Liability', ' Cash/Current Liability',\n",
              "       ' Current Liability to Assets', ' Operating Funds to Liability',\n",
              "       ' Inventory/Working Capital', ' Inventory/Current Liability',\n",
              "       ' Current Liabilities/Liability', ' Working Capital/Equity',\n",
              "       ' Current Liabilities/Equity', ' Long-term Liability to Current Assets',\n",
              "       ' Retained Earnings to Total Assets', ' Total income/Total expense',\n",
              "       ' Total expense/Assets', ' Current Asset Turnover Rate',\n",
              "       ' Quick Asset Turnover Rate', ' Working capitcal Turnover Rate',\n",
              "       ' Cash Turnover Rate', ' Cash Flow to Sales', ' Fixed Assets to Assets',\n",
              "       ' Current Liability to Liability', ' Current Liability to Equity',\n",
              "       ' Equity to Long-term Liability', ' Cash Flow to Total Assets',\n",
              "       ' Cash Flow to Liability', ' CFO to Assets', ' Cash Flow to Equity',\n",
              "       ' Current Liability to Current Assets', ' Liability-Assets Flag',\n",
              "       ' Net Income to Total Assets', ' Total assets to GNP price',\n",
              "       ' No-credit Interval', ' Gross Profit to Sales',\n",
              "       ' Net Income to Stockholder's Equity', ' Liability to Equity',\n",
              "       ' Degree of Financial Leverage (DFL)',\n",
              "       ' Interest Coverage Ratio (Interest expense to EBIT)',\n",
              "       ' Net Income Flag', ' Equity to Liability'],\n",
              "      dtype='object')"
            ]
          },
          "metadata": {},
          "execution_count": 5
        }
      ],
      "source": [
        "df.columns"
      ]
    },
    {
      "cell_type": "code",
      "execution_count": null,
      "metadata": {
        "colab": {
          "base_uri": "https://localhost:8080/",
          "height": 392
        },
        "id": "p_0jsAMimiEq",
        "outputId": "640001f5-7106-427a-a6c4-f159624c4641"
      },
      "outputs": [
        {
          "output_type": "execute_result",
          "data": {
            "text/plain": [
              "   Bankrupt?   ROA(C) before interest and depreciation before interest  \\\n",
              "0          1                                           0.370594          \n",
              "1          1                                           0.464291          \n",
              "2          1                                           0.426071          \n",
              "3          1                                           0.399844          \n",
              "4          1                                           0.465022          \n",
              "\n",
              "    ROA(A) before interest and % after tax  \\\n",
              "0                                 0.424389   \n",
              "1                                 0.538214   \n",
              "2                                 0.499019   \n",
              "3                                 0.451265   \n",
              "4                                 0.538432   \n",
              "\n",
              "    ROA(B) before interest and depreciation after tax  \\\n",
              "0                                           0.405750    \n",
              "1                                           0.516730    \n",
              "2                                           0.472295    \n",
              "3                                           0.457733    \n",
              "4                                           0.522298    \n",
              "\n",
              "    Operating Gross Margin   Realized Sales Gross Margin  \\\n",
              "0                 0.601457                      0.601457   \n",
              "1                 0.610235                      0.610235   \n",
              "2                 0.601450                      0.601364   \n",
              "3                 0.583541                      0.583541   \n",
              "4                 0.598783                      0.598783   \n",
              "\n",
              "    Operating Profit Rate   Pre-tax net Interest Rate  \\\n",
              "0                0.998969                    0.796887   \n",
              "1                0.998946                    0.797380   \n",
              "2                0.998857                    0.796403   \n",
              "3                0.998700                    0.796967   \n",
              "4                0.998973                    0.797366   \n",
              "\n",
              "    After-tax net Interest Rate   Non-industry income and expenditure/revenue  \\\n",
              "0                      0.808809                                      0.302646   \n",
              "1                      0.809301                                      0.303556   \n",
              "2                      0.808388                                      0.302035   \n",
              "3                      0.808966                                      0.303350   \n",
              "4                      0.809304                                      0.303475   \n",
              "\n",
              "    Continuous interest rate (after tax)   Operating Expense Rate  \\\n",
              "0                               0.780985             1.256969e-04   \n",
              "1                               0.781506             2.897851e-04   \n",
              "2                               0.780284             2.361297e-04   \n",
              "3                               0.781241             1.078888e-04   \n",
              "4                               0.781550             7.890000e+09   \n",
              "\n",
              "    Research and development expense rate   Cash flow rate  \\\n",
              "0                                     0.0         0.458143   \n",
              "1                                     0.0         0.461867   \n",
              "2                              25500000.0         0.458521   \n",
              "3                                     0.0         0.465705   \n",
              "4                                     0.0         0.462746   \n",
              "\n",
              "    Interest-bearing debt interest rate   Tax rate (A)  \\\n",
              "0                              0.000725            0.0   \n",
              "1                              0.000647            0.0   \n",
              "2                              0.000790            0.0   \n",
              "3                              0.000449            0.0   \n",
              "4                              0.000686            0.0   \n",
              "\n",
              "    Net Value Per Share (B)   Net Value Per Share (A)  \\\n",
              "0                  0.147950                  0.147950   \n",
              "1                  0.182251                  0.182251   \n",
              "2                  0.177911                  0.177911   \n",
              "3                  0.154187                  0.154187   \n",
              "4                  0.167502                  0.167502   \n",
              "\n",
              "    Net Value Per Share (C)   Persistent EPS in the Last Four Seasons  \\\n",
              "0                  0.147950                                  0.169141   \n",
              "1                  0.182251                                  0.208944   \n",
              "2                  0.193713                                  0.180581   \n",
              "3                  0.154187                                  0.193722   \n",
              "4                  0.167502                                  0.212537   \n",
              "\n",
              "    Cash Flow Per Share   Revenue Per Share (Yuan ¥)  \\\n",
              "0              0.311664                     0.017560   \n",
              "1              0.318137                     0.021144   \n",
              "2              0.307102                     0.005944   \n",
              "3              0.321674                     0.014368   \n",
              "4              0.319162                     0.029690   \n",
              "\n",
              "    Operating Profit Per Share (Yuan ¥)  \\\n",
              "0                              0.095921   \n",
              "1                              0.093722   \n",
              "2                              0.092338   \n",
              "3                              0.077762   \n",
              "4                              0.096898   \n",
              "\n",
              "    Per Share Net profit before tax (Yuan ¥)  \\\n",
              "0                                   0.138736   \n",
              "1                                   0.169918   \n",
              "2                                   0.142803   \n",
              "3                                   0.148603   \n",
              "4                                   0.168412   \n",
              "\n",
              "    Realized Sales Gross Profit Growth Rate   Operating Profit Growth Rate  \\\n",
              "0                                  0.022102                       0.848195   \n",
              "1                                  0.022080                       0.848088   \n",
              "2                                  0.022760                       0.848094   \n",
              "3                                  0.022046                       0.848005   \n",
              "4                                  0.022096                       0.848258   \n",
              "\n",
              "    After-tax Net Profit Growth Rate   Regular Net Profit Growth Rate  \\\n",
              "0                           0.688979                         0.688979   \n",
              "1                           0.689693                         0.689702   \n",
              "2                           0.689463                         0.689470   \n",
              "3                           0.689110                         0.689110   \n",
              "4                           0.689697                         0.689697   \n",
              "\n",
              "    Continuous Net Profit Growth Rate   Total Asset Growth Rate  \\\n",
              "0                            0.217535              4.980000e+09   \n",
              "1                            0.217620              6.110000e+09   \n",
              "2                            0.217601              7.280000e+09   \n",
              "3                            0.217568              4.880000e+09   \n",
              "4                            0.217626              5.510000e+09   \n",
              "\n",
              "    Net Value Growth Rate   Total Asset Return Growth Rate Ratio  \\\n",
              "0                0.000327                               0.263100   \n",
              "1                0.000443                               0.264516   \n",
              "2                0.000396                               0.264184   \n",
              "3                0.000382                               0.263371   \n",
              "4                0.000439                               0.265218   \n",
              "\n",
              "    Cash Reinvestment %   Current Ratio   Quick Ratio  \\\n",
              "0              0.363725        0.002259      0.001208   \n",
              "1              0.376709        0.006016      0.004039   \n",
              "2              0.368913        0.011543      0.005348   \n",
              "3              0.384077        0.004194      0.002896   \n",
              "4              0.379690        0.006022      0.003727   \n",
              "\n",
              "    Interest Expense Ratio   Total debt/Total net worth   Debt ratio %  \\\n",
              "0                 0.629951                     0.021266       0.207576   \n",
              "1                 0.635172                     0.012502       0.171176   \n",
              "2                 0.629631                     0.021248       0.207516   \n",
              "3                 0.630228                     0.009572       0.151465   \n",
              "4                 0.636055                     0.005150       0.106509   \n",
              "\n",
              "    Net worth/Assets   Long-term fund suitability ratio (A)  \\\n",
              "0           0.792424                               0.005024   \n",
              "1           0.828824                               0.005059   \n",
              "2           0.792484                               0.005100   \n",
              "3           0.848535                               0.005047   \n",
              "4           0.893491                               0.005303   \n",
              "\n",
              "    Borrowing dependency   Contingent liabilities/Net worth  \\\n",
              "0               0.390284                           0.006479   \n",
              "1               0.376760                           0.005835   \n",
              "2               0.379093                           0.006562   \n",
              "3               0.379743                           0.005366   \n",
              "4               0.375025                           0.006624   \n",
              "\n",
              "    Operating profit/Paid-in capital   Net profit before tax/Paid-in capital  \\\n",
              "0                           0.095885                                0.137757   \n",
              "1                           0.093743                                0.168962   \n",
              "2                           0.092318                                0.148036   \n",
              "3                           0.077727                                0.147561   \n",
              "4                           0.096927                                0.167461   \n",
              "\n",
              "    Inventory and accounts receivable/Net value   Total Asset Turnover  \\\n",
              "0                                      0.398036               0.086957   \n",
              "1                                      0.397725               0.064468   \n",
              "2                                      0.406580               0.014993   \n",
              "3                                      0.397925               0.089955   \n",
              "4                                      0.400079               0.175412   \n",
              "\n",
              "    Accounts Receivable Turnover   Average Collection Days  \\\n",
              "0                       0.001814                  0.003487   \n",
              "1                       0.001286                  0.004917   \n",
              "2                       0.001495                  0.004227   \n",
              "3                       0.001966                  0.003215   \n",
              "4                       0.001449                  0.004367   \n",
              "\n",
              "    Inventory Turnover Rate (times)   Fixed Assets Turnover Frequency  \\\n",
              "0                      1.820926e-04                      1.165007e-04   \n",
              "1                      9.360000e+09                      7.190000e+08   \n",
              "2                      6.500000e+07                      2.650000e+09   \n",
              "3                      7.130000e+09                      9.150000e+09   \n",
              "4                      1.633674e-04                      2.935211e-04   \n",
              "\n",
              "    Net Worth Turnover Rate (times)   Revenue per person  \\\n",
              "0                          0.032903             0.034164   \n",
              "1                          0.025484             0.006889   \n",
              "2                          0.013387             0.028997   \n",
              "3                          0.028065             0.015463   \n",
              "4                          0.040161             0.058111   \n",
              "\n",
              "    Operating profit per person   Allocation rate per person  \\\n",
              "0                      0.392913                     0.037135   \n",
              "1                      0.391590                     0.012335   \n",
              "2                      0.381968                     0.141016   \n",
              "3                      0.378497                     0.021320   \n",
              "4                      0.394371                     0.023988   \n",
              "\n",
              "    Working Capital to Total Assets   Quick Assets/Total Assets  \\\n",
              "0                          0.672775                    0.166673   \n",
              "1                          0.751111                    0.127236   \n",
              "2                          0.829502                    0.340201   \n",
              "3                          0.725754                    0.161575   \n",
              "4                          0.751822                    0.260330   \n",
              "\n",
              "    Current Assets/Total Assets   Cash/Total Assets  \\\n",
              "0                      0.190643            0.004094   \n",
              "1                      0.182419            0.014948   \n",
              "2                      0.602806            0.000991   \n",
              "3                      0.225815            0.018851   \n",
              "4                      0.358380            0.014161   \n",
              "\n",
              "    Quick Assets/Current Liability   Cash/Current Liability  \\\n",
              "0                         0.001997             1.473360e-04   \n",
              "1                         0.004136             1.383910e-03   \n",
              "2                         0.006302             5.340000e+09   \n",
              "3                         0.002961             1.010646e-03   \n",
              "4                         0.004275             6.804636e-04   \n",
              "\n",
              "    Current Liability to Assets   Operating Funds to Liability  \\\n",
              "0                      0.147308                       0.334015   \n",
              "1                      0.056963                       0.341106   \n",
              "2                      0.098162                       0.336731   \n",
              "3                      0.098715                       0.348716   \n",
              "4                      0.110195                       0.344639   \n",
              "\n",
              "    Inventory/Working Capital   Inventory/Current Liability  \\\n",
              "0                    0.276920                      0.001036   \n",
              "1                    0.289642                      0.005210   \n",
              "2                    0.277456                      0.013879   \n",
              "3                    0.276580                      0.003540   \n",
              "4                    0.287913                      0.004869   \n",
              "\n",
              "    Current Liabilities/Liability   Working Capital/Equity  \\\n",
              "0                        0.676269                 0.721275   \n",
              "1                        0.308589                 0.731975   \n",
              "2                        0.446027                 0.742729   \n",
              "3                        0.615848                 0.729825   \n",
              "4                        0.975007                 0.732000   \n",
              "\n",
              "    Current Liabilities/Equity   Long-term Liability to Current Assets  \\\n",
              "0                     0.339077                                0.025592   \n",
              "1                     0.329740                                0.023947   \n",
              "2                     0.334777                                0.003715   \n",
              "3                     0.331509                                0.022165   \n",
              "4                     0.330726                                0.000000   \n",
              "\n",
              "    Retained Earnings to Total Assets   Total income/Total expense  \\\n",
              "0                            0.903225                     0.002022   \n",
              "1                            0.931065                     0.002226   \n",
              "2                            0.909903                     0.002060   \n",
              "3                            0.906902                     0.001831   \n",
              "4                            0.913850                     0.002224   \n",
              "\n",
              "    Total expense/Assets   Current Asset Turnover Rate  \\\n",
              "0               0.064856                  7.010000e+08   \n",
              "1               0.025516                  1.065198e-04   \n",
              "2               0.021387                  1.791094e-03   \n",
              "3               0.024161                  8.140000e+09   \n",
              "4               0.026385                  6.680000e+09   \n",
              "\n",
              "    Quick Asset Turnover Rate   Working capitcal Turnover Rate  \\\n",
              "0                6.550000e+09                         0.593831   \n",
              "1                7.700000e+09                         0.593916   \n",
              "2                1.022676e-03                         0.594502   \n",
              "3                6.050000e+09                         0.593889   \n",
              "4                5.050000e+09                         0.593915   \n",
              "\n",
              "    Cash Turnover Rate   Cash Flow to Sales   Fixed Assets to Assets  \\\n",
              "0         4.580000e+08             0.671568                 0.424206   \n",
              "1         2.490000e+09             0.671570                 0.468828   \n",
              "2         7.610000e+08             0.671571                 0.276179   \n",
              "3         2.030000e+09             0.671519                 0.559144   \n",
              "4         8.240000e+08             0.671563                 0.309555   \n",
              "\n",
              "    Current Liability to Liability   Current Liability to Equity  \\\n",
              "0                         0.676269                      0.339077   \n",
              "1                         0.308589                      0.329740   \n",
              "2                         0.446027                      0.334777   \n",
              "3                         0.615848                      0.331509   \n",
              "4                         0.975007                      0.330726   \n",
              "\n",
              "    Equity to Long-term Liability   Cash Flow to Total Assets  \\\n",
              "0                        0.126549                    0.637555   \n",
              "1                        0.120916                    0.641100   \n",
              "2                        0.117922                    0.642765   \n",
              "3                        0.120760                    0.579039   \n",
              "4                        0.110933                    0.622374   \n",
              "\n",
              "    Cash Flow to Liability   CFO to Assets   Cash Flow to Equity  \\\n",
              "0                 0.458609        0.520382              0.312905   \n",
              "1                 0.459001        0.567101              0.314163   \n",
              "2                 0.459254        0.538491              0.314515   \n",
              "3                 0.448518        0.604105              0.302382   \n",
              "4                 0.454411        0.578469              0.311567   \n",
              "\n",
              "    Current Liability to Current Assets   Liability-Assets Flag  \\\n",
              "0                              0.118250                       0   \n",
              "1                              0.047775                       0   \n",
              "2                              0.025346                       0   \n",
              "3                              0.067250                       0   \n",
              "4                              0.047725                       0   \n",
              "\n",
              "    Net Income to Total Assets   Total assets to GNP price  \\\n",
              "0                     0.716845                    0.009219   \n",
              "1                     0.795297                    0.008323   \n",
              "2                     0.774670                    0.040003   \n",
              "3                     0.739555                    0.003252   \n",
              "4                     0.795016                    0.003878   \n",
              "\n",
              "    No-credit Interval   Gross Profit to Sales  \\\n",
              "0             0.622879                0.601453   \n",
              "1             0.623652                0.610237   \n",
              "2             0.623841                0.601449   \n",
              "3             0.622929                0.583538   \n",
              "4             0.623521                0.598782   \n",
              "\n",
              "    Net Income to Stockholder's Equity   Liability to Equity  \\\n",
              "0                             0.827890              0.290202   \n",
              "1                             0.839969              0.283846   \n",
              "2                             0.836774              0.290189   \n",
              "3                             0.834697              0.281721   \n",
              "4                             0.839973              0.278514   \n",
              "\n",
              "    Degree of Financial Leverage (DFL)  \\\n",
              "0                             0.026601   \n",
              "1                             0.264577   \n",
              "2                             0.026555   \n",
              "3                             0.026697   \n",
              "4                             0.024752   \n",
              "\n",
              "    Interest Coverage Ratio (Interest expense to EBIT)   Net Income Flag  \\\n",
              "0                                           0.564050                   1   \n",
              "1                                           0.570175                   1   \n",
              "2                                           0.563706                   1   \n",
              "3                                           0.564663                   1   \n",
              "4                                           0.575617                   1   \n",
              "\n",
              "    Equity to Liability  \n",
              "0              0.016469  \n",
              "1              0.020794  \n",
              "2              0.016474  \n",
              "3              0.023982  \n",
              "4              0.035490  "
            ],
            "text/html": [
              "\n",
              "  <div id=\"df-ad4bb18a-b8d9-42ba-b44e-80e92d3e0242\">\n",
              "    <div class=\"colab-df-container\">\n",
              "      <div>\n",
              "<style scoped>\n",
              "    .dataframe tbody tr th:only-of-type {\n",
              "        vertical-align: middle;\n",
              "    }\n",
              "\n",
              "    .dataframe tbody tr th {\n",
              "        vertical-align: top;\n",
              "    }\n",
              "\n",
              "    .dataframe thead th {\n",
              "        text-align: right;\n",
              "    }\n",
              "</style>\n",
              "<table border=\"1\" class=\"dataframe\">\n",
              "  <thead>\n",
              "    <tr style=\"text-align: right;\">\n",
              "      <th></th>\n",
              "      <th>Bankrupt?</th>\n",
              "      <th>ROA(C) before interest and depreciation before interest</th>\n",
              "      <th>ROA(A) before interest and % after tax</th>\n",
              "      <th>ROA(B) before interest and depreciation after tax</th>\n",
              "      <th>Operating Gross Margin</th>\n",
              "      <th>Realized Sales Gross Margin</th>\n",
              "      <th>Operating Profit Rate</th>\n",
              "      <th>Pre-tax net Interest Rate</th>\n",
              "      <th>After-tax net Interest Rate</th>\n",
              "      <th>Non-industry income and expenditure/revenue</th>\n",
              "      <th>Continuous interest rate (after tax)</th>\n",
              "      <th>Operating Expense Rate</th>\n",
              "      <th>Research and development expense rate</th>\n",
              "      <th>Cash flow rate</th>\n",
              "      <th>Interest-bearing debt interest rate</th>\n",
              "      <th>Tax rate (A)</th>\n",
              "      <th>Net Value Per Share (B)</th>\n",
              "      <th>Net Value Per Share (A)</th>\n",
              "      <th>Net Value Per Share (C)</th>\n",
              "      <th>Persistent EPS in the Last Four Seasons</th>\n",
              "      <th>Cash Flow Per Share</th>\n",
              "      <th>Revenue Per Share (Yuan ¥)</th>\n",
              "      <th>Operating Profit Per Share (Yuan ¥)</th>\n",
              "      <th>Per Share Net profit before tax (Yuan ¥)</th>\n",
              "      <th>Realized Sales Gross Profit Growth Rate</th>\n",
              "      <th>Operating Profit Growth Rate</th>\n",
              "      <th>After-tax Net Profit Growth Rate</th>\n",
              "      <th>Regular Net Profit Growth Rate</th>\n",
              "      <th>Continuous Net Profit Growth Rate</th>\n",
              "      <th>Total Asset Growth Rate</th>\n",
              "      <th>Net Value Growth Rate</th>\n",
              "      <th>Total Asset Return Growth Rate Ratio</th>\n",
              "      <th>Cash Reinvestment %</th>\n",
              "      <th>Current Ratio</th>\n",
              "      <th>Quick Ratio</th>\n",
              "      <th>Interest Expense Ratio</th>\n",
              "      <th>Total debt/Total net worth</th>\n",
              "      <th>Debt ratio %</th>\n",
              "      <th>Net worth/Assets</th>\n",
              "      <th>Long-term fund suitability ratio (A)</th>\n",
              "      <th>Borrowing dependency</th>\n",
              "      <th>Contingent liabilities/Net worth</th>\n",
              "      <th>Operating profit/Paid-in capital</th>\n",
              "      <th>Net profit before tax/Paid-in capital</th>\n",
              "      <th>Inventory and accounts receivable/Net value</th>\n",
              "      <th>Total Asset Turnover</th>\n",
              "      <th>Accounts Receivable Turnover</th>\n",
              "      <th>Average Collection Days</th>\n",
              "      <th>Inventory Turnover Rate (times)</th>\n",
              "      <th>Fixed Assets Turnover Frequency</th>\n",
              "      <th>Net Worth Turnover Rate (times)</th>\n",
              "      <th>Revenue per person</th>\n",
              "      <th>Operating profit per person</th>\n",
              "      <th>Allocation rate per person</th>\n",
              "      <th>Working Capital to Total Assets</th>\n",
              "      <th>Quick Assets/Total Assets</th>\n",
              "      <th>Current Assets/Total Assets</th>\n",
              "      <th>Cash/Total Assets</th>\n",
              "      <th>Quick Assets/Current Liability</th>\n",
              "      <th>Cash/Current Liability</th>\n",
              "      <th>Current Liability to Assets</th>\n",
              "      <th>Operating Funds to Liability</th>\n",
              "      <th>Inventory/Working Capital</th>\n",
              "      <th>Inventory/Current Liability</th>\n",
              "      <th>Current Liabilities/Liability</th>\n",
              "      <th>Working Capital/Equity</th>\n",
              "      <th>Current Liabilities/Equity</th>\n",
              "      <th>Long-term Liability to Current Assets</th>\n",
              "      <th>Retained Earnings to Total Assets</th>\n",
              "      <th>Total income/Total expense</th>\n",
              "      <th>Total expense/Assets</th>\n",
              "      <th>Current Asset Turnover Rate</th>\n",
              "      <th>Quick Asset Turnover Rate</th>\n",
              "      <th>Working capitcal Turnover Rate</th>\n",
              "      <th>Cash Turnover Rate</th>\n",
              "      <th>Cash Flow to Sales</th>\n",
              "      <th>Fixed Assets to Assets</th>\n",
              "      <th>Current Liability to Liability</th>\n",
              "      <th>Current Liability to Equity</th>\n",
              "      <th>Equity to Long-term Liability</th>\n",
              "      <th>Cash Flow to Total Assets</th>\n",
              "      <th>Cash Flow to Liability</th>\n",
              "      <th>CFO to Assets</th>\n",
              "      <th>Cash Flow to Equity</th>\n",
              "      <th>Current Liability to Current Assets</th>\n",
              "      <th>Liability-Assets Flag</th>\n",
              "      <th>Net Income to Total Assets</th>\n",
              "      <th>Total assets to GNP price</th>\n",
              "      <th>No-credit Interval</th>\n",
              "      <th>Gross Profit to Sales</th>\n",
              "      <th>Net Income to Stockholder's Equity</th>\n",
              "      <th>Liability to Equity</th>\n",
              "      <th>Degree of Financial Leverage (DFL)</th>\n",
              "      <th>Interest Coverage Ratio (Interest expense to EBIT)</th>\n",
              "      <th>Net Income Flag</th>\n",
              "      <th>Equity to Liability</th>\n",
              "    </tr>\n",
              "  </thead>\n",
              "  <tbody>\n",
              "    <tr>\n",
              "      <th>0</th>\n",
              "      <td>1</td>\n",
              "      <td>0.370594</td>\n",
              "      <td>0.424389</td>\n",
              "      <td>0.405750</td>\n",
              "      <td>0.601457</td>\n",
              "      <td>0.601457</td>\n",
              "      <td>0.998969</td>\n",
              "      <td>0.796887</td>\n",
              "      <td>0.808809</td>\n",
              "      <td>0.302646</td>\n",
              "      <td>0.780985</td>\n",
              "      <td>1.256969e-04</td>\n",
              "      <td>0.0</td>\n",
              "      <td>0.458143</td>\n",
              "      <td>0.000725</td>\n",
              "      <td>0.0</td>\n",
              "      <td>0.147950</td>\n",
              "      <td>0.147950</td>\n",
              "      <td>0.147950</td>\n",
              "      <td>0.169141</td>\n",
              "      <td>0.311664</td>\n",
              "      <td>0.017560</td>\n",
              "      <td>0.095921</td>\n",
              "      <td>0.138736</td>\n",
              "      <td>0.022102</td>\n",
              "      <td>0.848195</td>\n",
              "      <td>0.688979</td>\n",
              "      <td>0.688979</td>\n",
              "      <td>0.217535</td>\n",
              "      <td>4.980000e+09</td>\n",
              "      <td>0.000327</td>\n",
              "      <td>0.263100</td>\n",
              "      <td>0.363725</td>\n",
              "      <td>0.002259</td>\n",
              "      <td>0.001208</td>\n",
              "      <td>0.629951</td>\n",
              "      <td>0.021266</td>\n",
              "      <td>0.207576</td>\n",
              "      <td>0.792424</td>\n",
              "      <td>0.005024</td>\n",
              "      <td>0.390284</td>\n",
              "      <td>0.006479</td>\n",
              "      <td>0.095885</td>\n",
              "      <td>0.137757</td>\n",
              "      <td>0.398036</td>\n",
              "      <td>0.086957</td>\n",
              "      <td>0.001814</td>\n",
              "      <td>0.003487</td>\n",
              "      <td>1.820926e-04</td>\n",
              "      <td>1.165007e-04</td>\n",
              "      <td>0.032903</td>\n",
              "      <td>0.034164</td>\n",
              "      <td>0.392913</td>\n",
              "      <td>0.037135</td>\n",
              "      <td>0.672775</td>\n",
              "      <td>0.166673</td>\n",
              "      <td>0.190643</td>\n",
              "      <td>0.004094</td>\n",
              "      <td>0.001997</td>\n",
              "      <td>1.473360e-04</td>\n",
              "      <td>0.147308</td>\n",
              "      <td>0.334015</td>\n",
              "      <td>0.276920</td>\n",
              "      <td>0.001036</td>\n",
              "      <td>0.676269</td>\n",
              "      <td>0.721275</td>\n",
              "      <td>0.339077</td>\n",
              "      <td>0.025592</td>\n",
              "      <td>0.903225</td>\n",
              "      <td>0.002022</td>\n",
              "      <td>0.064856</td>\n",
              "      <td>7.010000e+08</td>\n",
              "      <td>6.550000e+09</td>\n",
              "      <td>0.593831</td>\n",
              "      <td>4.580000e+08</td>\n",
              "      <td>0.671568</td>\n",
              "      <td>0.424206</td>\n",
              "      <td>0.676269</td>\n",
              "      <td>0.339077</td>\n",
              "      <td>0.126549</td>\n",
              "      <td>0.637555</td>\n",
              "      <td>0.458609</td>\n",
              "      <td>0.520382</td>\n",
              "      <td>0.312905</td>\n",
              "      <td>0.118250</td>\n",
              "      <td>0</td>\n",
              "      <td>0.716845</td>\n",
              "      <td>0.009219</td>\n",
              "      <td>0.622879</td>\n",
              "      <td>0.601453</td>\n",
              "      <td>0.827890</td>\n",
              "      <td>0.290202</td>\n",
              "      <td>0.026601</td>\n",
              "      <td>0.564050</td>\n",
              "      <td>1</td>\n",
              "      <td>0.016469</td>\n",
              "    </tr>\n",
              "    <tr>\n",
              "      <th>1</th>\n",
              "      <td>1</td>\n",
              "      <td>0.464291</td>\n",
              "      <td>0.538214</td>\n",
              "      <td>0.516730</td>\n",
              "      <td>0.610235</td>\n",
              "      <td>0.610235</td>\n",
              "      <td>0.998946</td>\n",
              "      <td>0.797380</td>\n",
              "      <td>0.809301</td>\n",
              "      <td>0.303556</td>\n",
              "      <td>0.781506</td>\n",
              "      <td>2.897851e-04</td>\n",
              "      <td>0.0</td>\n",
              "      <td>0.461867</td>\n",
              "      <td>0.000647</td>\n",
              "      <td>0.0</td>\n",
              "      <td>0.182251</td>\n",
              "      <td>0.182251</td>\n",
              "      <td>0.182251</td>\n",
              "      <td>0.208944</td>\n",
              "      <td>0.318137</td>\n",
              "      <td>0.021144</td>\n",
              "      <td>0.093722</td>\n",
              "      <td>0.169918</td>\n",
              "      <td>0.022080</td>\n",
              "      <td>0.848088</td>\n",
              "      <td>0.689693</td>\n",
              "      <td>0.689702</td>\n",
              "      <td>0.217620</td>\n",
              "      <td>6.110000e+09</td>\n",
              "      <td>0.000443</td>\n",
              "      <td>0.264516</td>\n",
              "      <td>0.376709</td>\n",
              "      <td>0.006016</td>\n",
              "      <td>0.004039</td>\n",
              "      <td>0.635172</td>\n",
              "      <td>0.012502</td>\n",
              "      <td>0.171176</td>\n",
              "      <td>0.828824</td>\n",
              "      <td>0.005059</td>\n",
              "      <td>0.376760</td>\n",
              "      <td>0.005835</td>\n",
              "      <td>0.093743</td>\n",
              "      <td>0.168962</td>\n",
              "      <td>0.397725</td>\n",
              "      <td>0.064468</td>\n",
              "      <td>0.001286</td>\n",
              "      <td>0.004917</td>\n",
              "      <td>9.360000e+09</td>\n",
              "      <td>7.190000e+08</td>\n",
              "      <td>0.025484</td>\n",
              "      <td>0.006889</td>\n",
              "      <td>0.391590</td>\n",
              "      <td>0.012335</td>\n",
              "      <td>0.751111</td>\n",
              "      <td>0.127236</td>\n",
              "      <td>0.182419</td>\n",
              "      <td>0.014948</td>\n",
              "      <td>0.004136</td>\n",
              "      <td>1.383910e-03</td>\n",
              "      <td>0.056963</td>\n",
              "      <td>0.341106</td>\n",
              "      <td>0.289642</td>\n",
              "      <td>0.005210</td>\n",
              "      <td>0.308589</td>\n",
              "      <td>0.731975</td>\n",
              "      <td>0.329740</td>\n",
              "      <td>0.023947</td>\n",
              "      <td>0.931065</td>\n",
              "      <td>0.002226</td>\n",
              "      <td>0.025516</td>\n",
              "      <td>1.065198e-04</td>\n",
              "      <td>7.700000e+09</td>\n",
              "      <td>0.593916</td>\n",
              "      <td>2.490000e+09</td>\n",
              "      <td>0.671570</td>\n",
              "      <td>0.468828</td>\n",
              "      <td>0.308589</td>\n",
              "      <td>0.329740</td>\n",
              "      <td>0.120916</td>\n",
              "      <td>0.641100</td>\n",
              "      <td>0.459001</td>\n",
              "      <td>0.567101</td>\n",
              "      <td>0.314163</td>\n",
              "      <td>0.047775</td>\n",
              "      <td>0</td>\n",
              "      <td>0.795297</td>\n",
              "      <td>0.008323</td>\n",
              "      <td>0.623652</td>\n",
              "      <td>0.610237</td>\n",
              "      <td>0.839969</td>\n",
              "      <td>0.283846</td>\n",
              "      <td>0.264577</td>\n",
              "      <td>0.570175</td>\n",
              "      <td>1</td>\n",
              "      <td>0.020794</td>\n",
              "    </tr>\n",
              "    <tr>\n",
              "      <th>2</th>\n",
              "      <td>1</td>\n",
              "      <td>0.426071</td>\n",
              "      <td>0.499019</td>\n",
              "      <td>0.472295</td>\n",
              "      <td>0.601450</td>\n",
              "      <td>0.601364</td>\n",
              "      <td>0.998857</td>\n",
              "      <td>0.796403</td>\n",
              "      <td>0.808388</td>\n",
              "      <td>0.302035</td>\n",
              "      <td>0.780284</td>\n",
              "      <td>2.361297e-04</td>\n",
              "      <td>25500000.0</td>\n",
              "      <td>0.458521</td>\n",
              "      <td>0.000790</td>\n",
              "      <td>0.0</td>\n",
              "      <td>0.177911</td>\n",
              "      <td>0.177911</td>\n",
              "      <td>0.193713</td>\n",
              "      <td>0.180581</td>\n",
              "      <td>0.307102</td>\n",
              "      <td>0.005944</td>\n",
              "      <td>0.092338</td>\n",
              "      <td>0.142803</td>\n",
              "      <td>0.022760</td>\n",
              "      <td>0.848094</td>\n",
              "      <td>0.689463</td>\n",
              "      <td>0.689470</td>\n",
              "      <td>0.217601</td>\n",
              "      <td>7.280000e+09</td>\n",
              "      <td>0.000396</td>\n",
              "      <td>0.264184</td>\n",
              "      <td>0.368913</td>\n",
              "      <td>0.011543</td>\n",
              "      <td>0.005348</td>\n",
              "      <td>0.629631</td>\n",
              "      <td>0.021248</td>\n",
              "      <td>0.207516</td>\n",
              "      <td>0.792484</td>\n",
              "      <td>0.005100</td>\n",
              "      <td>0.379093</td>\n",
              "      <td>0.006562</td>\n",
              "      <td>0.092318</td>\n",
              "      <td>0.148036</td>\n",
              "      <td>0.406580</td>\n",
              "      <td>0.014993</td>\n",
              "      <td>0.001495</td>\n",
              "      <td>0.004227</td>\n",
              "      <td>6.500000e+07</td>\n",
              "      <td>2.650000e+09</td>\n",
              "      <td>0.013387</td>\n",
              "      <td>0.028997</td>\n",
              "      <td>0.381968</td>\n",
              "      <td>0.141016</td>\n",
              "      <td>0.829502</td>\n",
              "      <td>0.340201</td>\n",
              "      <td>0.602806</td>\n",
              "      <td>0.000991</td>\n",
              "      <td>0.006302</td>\n",
              "      <td>5.340000e+09</td>\n",
              "      <td>0.098162</td>\n",
              "      <td>0.336731</td>\n",
              "      <td>0.277456</td>\n",
              "      <td>0.013879</td>\n",
              "      <td>0.446027</td>\n",
              "      <td>0.742729</td>\n",
              "      <td>0.334777</td>\n",
              "      <td>0.003715</td>\n",
              "      <td>0.909903</td>\n",
              "      <td>0.002060</td>\n",
              "      <td>0.021387</td>\n",
              "      <td>1.791094e-03</td>\n",
              "      <td>1.022676e-03</td>\n",
              "      <td>0.594502</td>\n",
              "      <td>7.610000e+08</td>\n",
              "      <td>0.671571</td>\n",
              "      <td>0.276179</td>\n",
              "      <td>0.446027</td>\n",
              "      <td>0.334777</td>\n",
              "      <td>0.117922</td>\n",
              "      <td>0.642765</td>\n",
              "      <td>0.459254</td>\n",
              "      <td>0.538491</td>\n",
              "      <td>0.314515</td>\n",
              "      <td>0.025346</td>\n",
              "      <td>0</td>\n",
              "      <td>0.774670</td>\n",
              "      <td>0.040003</td>\n",
              "      <td>0.623841</td>\n",
              "      <td>0.601449</td>\n",
              "      <td>0.836774</td>\n",
              "      <td>0.290189</td>\n",
              "      <td>0.026555</td>\n",
              "      <td>0.563706</td>\n",
              "      <td>1</td>\n",
              "      <td>0.016474</td>\n",
              "    </tr>\n",
              "    <tr>\n",
              "      <th>3</th>\n",
              "      <td>1</td>\n",
              "      <td>0.399844</td>\n",
              "      <td>0.451265</td>\n",
              "      <td>0.457733</td>\n",
              "      <td>0.583541</td>\n",
              "      <td>0.583541</td>\n",
              "      <td>0.998700</td>\n",
              "      <td>0.796967</td>\n",
              "      <td>0.808966</td>\n",
              "      <td>0.303350</td>\n",
              "      <td>0.781241</td>\n",
              "      <td>1.078888e-04</td>\n",
              "      <td>0.0</td>\n",
              "      <td>0.465705</td>\n",
              "      <td>0.000449</td>\n",
              "      <td>0.0</td>\n",
              "      <td>0.154187</td>\n",
              "      <td>0.154187</td>\n",
              "      <td>0.154187</td>\n",
              "      <td>0.193722</td>\n",
              "      <td>0.321674</td>\n",
              "      <td>0.014368</td>\n",
              "      <td>0.077762</td>\n",
              "      <td>0.148603</td>\n",
              "      <td>0.022046</td>\n",
              "      <td>0.848005</td>\n",
              "      <td>0.689110</td>\n",
              "      <td>0.689110</td>\n",
              "      <td>0.217568</td>\n",
              "      <td>4.880000e+09</td>\n",
              "      <td>0.000382</td>\n",
              "      <td>0.263371</td>\n",
              "      <td>0.384077</td>\n",
              "      <td>0.004194</td>\n",
              "      <td>0.002896</td>\n",
              "      <td>0.630228</td>\n",
              "      <td>0.009572</td>\n",
              "      <td>0.151465</td>\n",
              "      <td>0.848535</td>\n",
              "      <td>0.005047</td>\n",
              "      <td>0.379743</td>\n",
              "      <td>0.005366</td>\n",
              "      <td>0.077727</td>\n",
              "      <td>0.147561</td>\n",
              "      <td>0.397925</td>\n",
              "      <td>0.089955</td>\n",
              "      <td>0.001966</td>\n",
              "      <td>0.003215</td>\n",
              "      <td>7.130000e+09</td>\n",
              "      <td>9.150000e+09</td>\n",
              "      <td>0.028065</td>\n",
              "      <td>0.015463</td>\n",
              "      <td>0.378497</td>\n",
              "      <td>0.021320</td>\n",
              "      <td>0.725754</td>\n",
              "      <td>0.161575</td>\n",
              "      <td>0.225815</td>\n",
              "      <td>0.018851</td>\n",
              "      <td>0.002961</td>\n",
              "      <td>1.010646e-03</td>\n",
              "      <td>0.098715</td>\n",
              "      <td>0.348716</td>\n",
              "      <td>0.276580</td>\n",
              "      <td>0.003540</td>\n",
              "      <td>0.615848</td>\n",
              "      <td>0.729825</td>\n",
              "      <td>0.331509</td>\n",
              "      <td>0.022165</td>\n",
              "      <td>0.906902</td>\n",
              "      <td>0.001831</td>\n",
              "      <td>0.024161</td>\n",
              "      <td>8.140000e+09</td>\n",
              "      <td>6.050000e+09</td>\n",
              "      <td>0.593889</td>\n",
              "      <td>2.030000e+09</td>\n",
              "      <td>0.671519</td>\n",
              "      <td>0.559144</td>\n",
              "      <td>0.615848</td>\n",
              "      <td>0.331509</td>\n",
              "      <td>0.120760</td>\n",
              "      <td>0.579039</td>\n",
              "      <td>0.448518</td>\n",
              "      <td>0.604105</td>\n",
              "      <td>0.302382</td>\n",
              "      <td>0.067250</td>\n",
              "      <td>0</td>\n",
              "      <td>0.739555</td>\n",
              "      <td>0.003252</td>\n",
              "      <td>0.622929</td>\n",
              "      <td>0.583538</td>\n",
              "      <td>0.834697</td>\n",
              "      <td>0.281721</td>\n",
              "      <td>0.026697</td>\n",
              "      <td>0.564663</td>\n",
              "      <td>1</td>\n",
              "      <td>0.023982</td>\n",
              "    </tr>\n",
              "    <tr>\n",
              "      <th>4</th>\n",
              "      <td>1</td>\n",
              "      <td>0.465022</td>\n",
              "      <td>0.538432</td>\n",
              "      <td>0.522298</td>\n",
              "      <td>0.598783</td>\n",
              "      <td>0.598783</td>\n",
              "      <td>0.998973</td>\n",
              "      <td>0.797366</td>\n",
              "      <td>0.809304</td>\n",
              "      <td>0.303475</td>\n",
              "      <td>0.781550</td>\n",
              "      <td>7.890000e+09</td>\n",
              "      <td>0.0</td>\n",
              "      <td>0.462746</td>\n",
              "      <td>0.000686</td>\n",
              "      <td>0.0</td>\n",
              "      <td>0.167502</td>\n",
              "      <td>0.167502</td>\n",
              "      <td>0.167502</td>\n",
              "      <td>0.212537</td>\n",
              "      <td>0.319162</td>\n",
              "      <td>0.029690</td>\n",
              "      <td>0.096898</td>\n",
              "      <td>0.168412</td>\n",
              "      <td>0.022096</td>\n",
              "      <td>0.848258</td>\n",
              "      <td>0.689697</td>\n",
              "      <td>0.689697</td>\n",
              "      <td>0.217626</td>\n",
              "      <td>5.510000e+09</td>\n",
              "      <td>0.000439</td>\n",
              "      <td>0.265218</td>\n",
              "      <td>0.379690</td>\n",
              "      <td>0.006022</td>\n",
              "      <td>0.003727</td>\n",
              "      <td>0.636055</td>\n",
              "      <td>0.005150</td>\n",
              "      <td>0.106509</td>\n",
              "      <td>0.893491</td>\n",
              "      <td>0.005303</td>\n",
              "      <td>0.375025</td>\n",
              "      <td>0.006624</td>\n",
              "      <td>0.096927</td>\n",
              "      <td>0.167461</td>\n",
              "      <td>0.400079</td>\n",
              "      <td>0.175412</td>\n",
              "      <td>0.001449</td>\n",
              "      <td>0.004367</td>\n",
              "      <td>1.633674e-04</td>\n",
              "      <td>2.935211e-04</td>\n",
              "      <td>0.040161</td>\n",
              "      <td>0.058111</td>\n",
              "      <td>0.394371</td>\n",
              "      <td>0.023988</td>\n",
              "      <td>0.751822</td>\n",
              "      <td>0.260330</td>\n",
              "      <td>0.358380</td>\n",
              "      <td>0.014161</td>\n",
              "      <td>0.004275</td>\n",
              "      <td>6.804636e-04</td>\n",
              "      <td>0.110195</td>\n",
              "      <td>0.344639</td>\n",
              "      <td>0.287913</td>\n",
              "      <td>0.004869</td>\n",
              "      <td>0.975007</td>\n",
              "      <td>0.732000</td>\n",
              "      <td>0.330726</td>\n",
              "      <td>0.000000</td>\n",
              "      <td>0.913850</td>\n",
              "      <td>0.002224</td>\n",
              "      <td>0.026385</td>\n",
              "      <td>6.680000e+09</td>\n",
              "      <td>5.050000e+09</td>\n",
              "      <td>0.593915</td>\n",
              "      <td>8.240000e+08</td>\n",
              "      <td>0.671563</td>\n",
              "      <td>0.309555</td>\n",
              "      <td>0.975007</td>\n",
              "      <td>0.330726</td>\n",
              "      <td>0.110933</td>\n",
              "      <td>0.622374</td>\n",
              "      <td>0.454411</td>\n",
              "      <td>0.578469</td>\n",
              "      <td>0.311567</td>\n",
              "      <td>0.047725</td>\n",
              "      <td>0</td>\n",
              "      <td>0.795016</td>\n",
              "      <td>0.003878</td>\n",
              "      <td>0.623521</td>\n",
              "      <td>0.598782</td>\n",
              "      <td>0.839973</td>\n",
              "      <td>0.278514</td>\n",
              "      <td>0.024752</td>\n",
              "      <td>0.575617</td>\n",
              "      <td>1</td>\n",
              "      <td>0.035490</td>\n",
              "    </tr>\n",
              "  </tbody>\n",
              "</table>\n",
              "</div>\n",
              "      <button class=\"colab-df-convert\" onclick=\"convertToInteractive('df-ad4bb18a-b8d9-42ba-b44e-80e92d3e0242')\"\n",
              "              title=\"Convert this dataframe to an interactive table.\"\n",
              "              style=\"display:none;\">\n",
              "        \n",
              "  <svg xmlns=\"http://www.w3.org/2000/svg\" height=\"24px\"viewBox=\"0 0 24 24\"\n",
              "       width=\"24px\">\n",
              "    <path d=\"M0 0h24v24H0V0z\" fill=\"none\"/>\n",
              "    <path d=\"M18.56 5.44l.94 2.06.94-2.06 2.06-.94-2.06-.94-.94-2.06-.94 2.06-2.06.94zm-11 1L8.5 8.5l.94-2.06 2.06-.94-2.06-.94L8.5 2.5l-.94 2.06-2.06.94zm10 10l.94 2.06.94-2.06 2.06-.94-2.06-.94-.94-2.06-.94 2.06-2.06.94z\"/><path d=\"M17.41 7.96l-1.37-1.37c-.4-.4-.92-.59-1.43-.59-.52 0-1.04.2-1.43.59L10.3 9.45l-7.72 7.72c-.78.78-.78 2.05 0 2.83L4 21.41c.39.39.9.59 1.41.59.51 0 1.02-.2 1.41-.59l7.78-7.78 2.81-2.81c.8-.78.8-2.07 0-2.86zM5.41 20L4 18.59l7.72-7.72 1.47 1.35L5.41 20z\"/>\n",
              "  </svg>\n",
              "      </button>\n",
              "      \n",
              "  <style>\n",
              "    .colab-df-container {\n",
              "      display:flex;\n",
              "      flex-wrap:wrap;\n",
              "      gap: 12px;\n",
              "    }\n",
              "\n",
              "    .colab-df-convert {\n",
              "      background-color: #E8F0FE;\n",
              "      border: none;\n",
              "      border-radius: 50%;\n",
              "      cursor: pointer;\n",
              "      display: none;\n",
              "      fill: #1967D2;\n",
              "      height: 32px;\n",
              "      padding: 0 0 0 0;\n",
              "      width: 32px;\n",
              "    }\n",
              "\n",
              "    .colab-df-convert:hover {\n",
              "      background-color: #E2EBFA;\n",
              "      box-shadow: 0px 1px 2px rgba(60, 64, 67, 0.3), 0px 1px 3px 1px rgba(60, 64, 67, 0.15);\n",
              "      fill: #174EA6;\n",
              "    }\n",
              "\n",
              "    [theme=dark] .colab-df-convert {\n",
              "      background-color: #3B4455;\n",
              "      fill: #D2E3FC;\n",
              "    }\n",
              "\n",
              "    [theme=dark] .colab-df-convert:hover {\n",
              "      background-color: #434B5C;\n",
              "      box-shadow: 0px 1px 3px 1px rgba(0, 0, 0, 0.15);\n",
              "      filter: drop-shadow(0px 1px 2px rgba(0, 0, 0, 0.3));\n",
              "      fill: #FFFFFF;\n",
              "    }\n",
              "  </style>\n",
              "\n",
              "      <script>\n",
              "        const buttonEl =\n",
              "          document.querySelector('#df-ad4bb18a-b8d9-42ba-b44e-80e92d3e0242 button.colab-df-convert');\n",
              "        buttonEl.style.display =\n",
              "          google.colab.kernel.accessAllowed ? 'block' : 'none';\n",
              "\n",
              "        async function convertToInteractive(key) {\n",
              "          const element = document.querySelector('#df-ad4bb18a-b8d9-42ba-b44e-80e92d3e0242');\n",
              "          const dataTable =\n",
              "            await google.colab.kernel.invokeFunction('convertToInteractive',\n",
              "                                                     [key], {});\n",
              "          if (!dataTable) return;\n",
              "\n",
              "          const docLinkHtml = 'Like what you see? Visit the ' +\n",
              "            '<a target=\"_blank\" href=https://colab.research.google.com/notebooks/data_table.ipynb>data table notebook</a>'\n",
              "            + ' to learn more about interactive tables.';\n",
              "          element.innerHTML = '';\n",
              "          dataTable['output_type'] = 'display_data';\n",
              "          await google.colab.output.renderOutput(dataTable, element);\n",
              "          const docLink = document.createElement('div');\n",
              "          docLink.innerHTML = docLinkHtml;\n",
              "          element.appendChild(docLink);\n",
              "        }\n",
              "      </script>\n",
              "    </div>\n",
              "  </div>\n",
              "  "
            ]
          },
          "metadata": {},
          "execution_count": 6
        }
      ],
      "source": [
        "df.head()"
      ]
    },
    {
      "cell_type": "code",
      "execution_count": null,
      "metadata": {
        "colab": {
          "base_uri": "https://localhost:8080/"
        },
        "id": "NP1s3VV8miEr",
        "outputId": "467fd8d2-e6bc-47a6-e795-355954990abc"
      },
      "outputs": [
        {
          "output_type": "execute_result",
          "data": {
            "text/plain": [
              "0"
            ]
          },
          "metadata": {},
          "execution_count": 7
        }
      ],
      "source": [
        "df.isnull().sum().sum()"
      ]
    },
    {
      "cell_type": "code",
      "execution_count": null,
      "metadata": {
        "colab": {
          "base_uri": "https://localhost:8080/"
        },
        "id": "11_8jIF6miEt",
        "outputId": "65fc8f92-c706-424b-b5aa-0dd953a89c4a"
      },
      "outputs": [
        {
          "output_type": "execute_result",
          "data": {
            "text/plain": [
              "array([False])"
            ]
          },
          "metadata": {},
          "execution_count": 8
        }
      ],
      "source": [
        "df[' Net Income Flag'].isnull().unique()"
      ]
    },
    {
      "cell_type": "code",
      "execution_count": null,
      "metadata": {
        "scrolled": true,
        "colab": {
          "base_uri": "https://localhost:8080/",
          "height": 249
        },
        "id": "M62n17X-miEu",
        "outputId": "eb53d6a6-67e2-4c8e-8cb0-f52b07d831a5"
      },
      "outputs": [
        {
          "output_type": "execute_result",
          "data": {
            "text/plain": [
              "           Bankrupt?  \\\n",
              "Bankrupt?        1.0   \n",
              "\n",
              "            ROA(C) before interest and depreciation before interest  \\\n",
              "Bankrupt?                                          -0.260807          \n",
              "\n",
              "            ROA(A) before interest and % after tax  \\\n",
              "Bankrupt?                                -0.282941   \n",
              "\n",
              "            ROA(B) before interest and depreciation after tax  \\\n",
              "Bankrupt?                                          -0.273051    \n",
              "\n",
              "            Operating Gross Margin   Realized Sales Gross Margin  \\\n",
              "Bankrupt?                -0.100043                     -0.099445   \n",
              "\n",
              "            Operating Profit Rate   Pre-tax net Interest Rate  \\\n",
              "Bankrupt?                -0.00023                   -0.008517   \n",
              "\n",
              "            After-tax net Interest Rate  \\\n",
              "Bankrupt?                     -0.008857   \n",
              "\n",
              "            Non-industry income and expenditure/revenue  \\\n",
              "Bankrupt?                                     -0.016593   \n",
              "\n",
              "            Continuous interest rate (after tax)   Operating Expense Rate  \\\n",
              "Bankrupt?                              -0.008395                -0.006083   \n",
              "\n",
              "            Research and development expense rate   Cash flow rate  \\\n",
              "Bankrupt?                               -0.024232        -0.072356   \n",
              "\n",
              "            Interest-bearing debt interest rate   Tax rate (A)  \\\n",
              "Bankrupt?                             -0.023063      -0.109706   \n",
              "\n",
              "            Net Value Per Share (B)   Net Value Per Share (A)  \\\n",
              "Bankrupt?                 -0.165399                 -0.165465   \n",
              "\n",
              "            Net Value Per Share (C)   Persistent EPS in the Last Four Seasons  \\\n",
              "Bankrupt?                 -0.164784                                  -0.21956   \n",
              "\n",
              "            Cash Flow Per Share   Revenue Per Share (Yuan ¥)  \\\n",
              "Bankrupt?             -0.077516                    -0.004692   \n",
              "\n",
              "            Operating Profit Per Share (Yuan ¥)  \\\n",
              "Bankrupt?                             -0.142051   \n",
              "\n",
              "            Per Share Net profit before tax (Yuan ¥)  \\\n",
              "Bankrupt?                                  -0.201395   \n",
              "\n",
              "            Realized Sales Gross Profit Growth Rate  \\\n",
              "Bankrupt?                                 -0.000458   \n",
              "\n",
              "            Operating Profit Growth Rate   After-tax Net Profit Growth Rate  \\\n",
              "Bankrupt?                      -0.015168                          -0.037783   \n",
              "\n",
              "            Regular Net Profit Growth Rate  \\\n",
              "Bankrupt?                         -0.03682   \n",
              "\n",
              "            Continuous Net Profit Growth Rate   Total Asset Growth Rate  \\\n",
              "Bankrupt?                           -0.009401                 -0.044431   \n",
              "\n",
              "            Net Value Growth Rate   Total Asset Return Growth Rate Ratio  \\\n",
              "Bankrupt?                0.065329                              -0.016858   \n",
              "\n",
              "            Cash Reinvestment %   Current Ratio   Quick Ratio  \\\n",
              "Bankrupt?             -0.051345       -0.002211      0.025058   \n",
              "\n",
              "            Interest Expense Ratio   Total debt/Total net worth  \\\n",
              "Bankrupt?                -0.002681                     0.012314   \n",
              "\n",
              "            Debt ratio %   Net worth/Assets  \\\n",
              "Bankrupt?       0.250161          -0.250161   \n",
              "\n",
              "            Long-term fund suitability ratio (A)   Borrowing dependency  \\\n",
              "Bankrupt?                                0.01692               0.176543   \n",
              "\n",
              "            Contingent liabilities/Net worth  \\\n",
              "Bankrupt?                           0.070455   \n",
              "\n",
              "            Operating profit/Paid-in capital  \\\n",
              "Bankrupt?                          -0.141111   \n",
              "\n",
              "            Net profit before tax/Paid-in capital  \\\n",
              "Bankrupt?                               -0.207857   \n",
              "\n",
              "            Inventory and accounts receivable/Net value  \\\n",
              "Bankrupt?                                      0.075278   \n",
              "\n",
              "            Total Asset Turnover   Accounts Receivable Turnover  \\\n",
              "Bankrupt?              -0.067915                      -0.004754   \n",
              "\n",
              "            Average Collection Days   Inventory Turnover Rate (times)  \\\n",
              "Bankrupt?                 -0.006556                         -0.001376   \n",
              "\n",
              "            Fixed Assets Turnover Frequency   Net Worth Turnover Rate (times)  \\\n",
              "Bankrupt?                          0.072818                          0.021089   \n",
              "\n",
              "            Revenue per person   Operating profit per person  \\\n",
              "Bankrupt?             0.039718                     -0.092842   \n",
              "\n",
              "            Allocation rate per person   Working Capital to Total Assets  \\\n",
              "Bankrupt?                     0.002829                         -0.193083   \n",
              "\n",
              "            Quick Assets/Total Assets   Current Assets/Total Assets  \\\n",
              "Bankrupt?                   -0.086382                     -0.044823   \n",
              "\n",
              "            Cash/Total Assets   Quick Assets/Current Liability  \\\n",
              "Bankrupt?            -0.10013                        -0.003823   \n",
              "\n",
              "            Cash/Current Liability   Current Liability to Assets  \\\n",
              "Bankrupt?                 0.077921                      0.194494   \n",
              "\n",
              "            Operating Funds to Liability   Inventory/Working Capital  \\\n",
              "Bankrupt?                      -0.077082                   -0.001906   \n",
              "\n",
              "            Inventory/Current Liability   Current Liabilities/Liability  \\\n",
              "Bankrupt?                      0.000822                       -0.020809   \n",
              "\n",
              "            Working Capital/Equity   Current Liabilities/Equity  \\\n",
              "Bankrupt?                -0.147221                     0.153828   \n",
              "\n",
              "            Long-term Liability to Current Assets  \\\n",
              "Bankrupt?                                0.000778   \n",
              "\n",
              "            Retained Earnings to Total Assets   Total income/Total expense  \\\n",
              "Bankrupt?                           -0.217779                    -0.007137   \n",
              "\n",
              "            Total expense/Assets   Current Asset Turnover Rate  \\\n",
              "Bankrupt?               0.139049                      0.011929   \n",
              "\n",
              "            Quick Asset Turnover Rate   Working capitcal Turnover Rate  \\\n",
              "Bankrupt?                    0.025814                        -0.002894   \n",
              "\n",
              "            Cash Turnover Rate   Cash Flow to Sales   Fixed Assets to Assets  \\\n",
              "Bankrupt?            -0.018035             0.000479                 0.066328   \n",
              "\n",
              "            Current Liability to Liability   Current Liability to Equity  \\\n",
              "Bankrupt?                        -0.020809                      0.153828   \n",
              "\n",
              "            Equity to Long-term Liability   Cash Flow to Total Assets  \\\n",
              "Bankrupt?                        0.139014                   -0.070456   \n",
              "\n",
              "            Cash Flow to Liability   CFO to Assets   Cash Flow to Equity  \\\n",
              "Bankrupt?                -0.043125       -0.115383             -0.058563   \n",
              "\n",
              "            Current Liability to Current Assets   Liability-Assets Flag  \\\n",
              "Bankrupt?                              0.171306                0.139212   \n",
              "\n",
              "            Net Income to Total Assets   Total assets to GNP price  \\\n",
              "Bankrupt?                    -0.315457                    0.035104   \n",
              "\n",
              "            No-credit Interval   Gross Profit to Sales  \\\n",
              "Bankrupt?            -0.005547               -0.100044   \n",
              "\n",
              "            Net Income to Stockholder's Equity   Liability to Equity  \\\n",
              "Bankrupt?                            -0.180987              0.166812   \n",
              "\n",
              "            Degree of Financial Leverage (DFL)  \\\n",
              "Bankrupt?                             0.010508   \n",
              "\n",
              "            Interest Coverage Ratio (Interest expense to EBIT)  \\\n",
              "Bankrupt?                                          -0.005509     \n",
              "\n",
              "            Net Income Flag   Equity to Liability  \n",
              "Bankrupt?               NaN             -0.083048  "
            ],
            "text/html": [
              "\n",
              "  <div id=\"df-d62c117e-b2ec-46a1-8f55-edc6216d5f34\">\n",
              "    <div class=\"colab-df-container\">\n",
              "      <div>\n",
              "<style scoped>\n",
              "    .dataframe tbody tr th:only-of-type {\n",
              "        vertical-align: middle;\n",
              "    }\n",
              "\n",
              "    .dataframe tbody tr th {\n",
              "        vertical-align: top;\n",
              "    }\n",
              "\n",
              "    .dataframe thead th {\n",
              "        text-align: right;\n",
              "    }\n",
              "</style>\n",
              "<table border=\"1\" class=\"dataframe\">\n",
              "  <thead>\n",
              "    <tr style=\"text-align: right;\">\n",
              "      <th></th>\n",
              "      <th>Bankrupt?</th>\n",
              "      <th>ROA(C) before interest and depreciation before interest</th>\n",
              "      <th>ROA(A) before interest and % after tax</th>\n",
              "      <th>ROA(B) before interest and depreciation after tax</th>\n",
              "      <th>Operating Gross Margin</th>\n",
              "      <th>Realized Sales Gross Margin</th>\n",
              "      <th>Operating Profit Rate</th>\n",
              "      <th>Pre-tax net Interest Rate</th>\n",
              "      <th>After-tax net Interest Rate</th>\n",
              "      <th>Non-industry income and expenditure/revenue</th>\n",
              "      <th>Continuous interest rate (after tax)</th>\n",
              "      <th>Operating Expense Rate</th>\n",
              "      <th>Research and development expense rate</th>\n",
              "      <th>Cash flow rate</th>\n",
              "      <th>Interest-bearing debt interest rate</th>\n",
              "      <th>Tax rate (A)</th>\n",
              "      <th>Net Value Per Share (B)</th>\n",
              "      <th>Net Value Per Share (A)</th>\n",
              "      <th>Net Value Per Share (C)</th>\n",
              "      <th>Persistent EPS in the Last Four Seasons</th>\n",
              "      <th>Cash Flow Per Share</th>\n",
              "      <th>Revenue Per Share (Yuan ¥)</th>\n",
              "      <th>Operating Profit Per Share (Yuan ¥)</th>\n",
              "      <th>Per Share Net profit before tax (Yuan ¥)</th>\n",
              "      <th>Realized Sales Gross Profit Growth Rate</th>\n",
              "      <th>Operating Profit Growth Rate</th>\n",
              "      <th>After-tax Net Profit Growth Rate</th>\n",
              "      <th>Regular Net Profit Growth Rate</th>\n",
              "      <th>Continuous Net Profit Growth Rate</th>\n",
              "      <th>Total Asset Growth Rate</th>\n",
              "      <th>Net Value Growth Rate</th>\n",
              "      <th>Total Asset Return Growth Rate Ratio</th>\n",
              "      <th>Cash Reinvestment %</th>\n",
              "      <th>Current Ratio</th>\n",
              "      <th>Quick Ratio</th>\n",
              "      <th>Interest Expense Ratio</th>\n",
              "      <th>Total debt/Total net worth</th>\n",
              "      <th>Debt ratio %</th>\n",
              "      <th>Net worth/Assets</th>\n",
              "      <th>Long-term fund suitability ratio (A)</th>\n",
              "      <th>Borrowing dependency</th>\n",
              "      <th>Contingent liabilities/Net worth</th>\n",
              "      <th>Operating profit/Paid-in capital</th>\n",
              "      <th>Net profit before tax/Paid-in capital</th>\n",
              "      <th>Inventory and accounts receivable/Net value</th>\n",
              "      <th>Total Asset Turnover</th>\n",
              "      <th>Accounts Receivable Turnover</th>\n",
              "      <th>Average Collection Days</th>\n",
              "      <th>Inventory Turnover Rate (times)</th>\n",
              "      <th>Fixed Assets Turnover Frequency</th>\n",
              "      <th>Net Worth Turnover Rate (times)</th>\n",
              "      <th>Revenue per person</th>\n",
              "      <th>Operating profit per person</th>\n",
              "      <th>Allocation rate per person</th>\n",
              "      <th>Working Capital to Total Assets</th>\n",
              "      <th>Quick Assets/Total Assets</th>\n",
              "      <th>Current Assets/Total Assets</th>\n",
              "      <th>Cash/Total Assets</th>\n",
              "      <th>Quick Assets/Current Liability</th>\n",
              "      <th>Cash/Current Liability</th>\n",
              "      <th>Current Liability to Assets</th>\n",
              "      <th>Operating Funds to Liability</th>\n",
              "      <th>Inventory/Working Capital</th>\n",
              "      <th>Inventory/Current Liability</th>\n",
              "      <th>Current Liabilities/Liability</th>\n",
              "      <th>Working Capital/Equity</th>\n",
              "      <th>Current Liabilities/Equity</th>\n",
              "      <th>Long-term Liability to Current Assets</th>\n",
              "      <th>Retained Earnings to Total Assets</th>\n",
              "      <th>Total income/Total expense</th>\n",
              "      <th>Total expense/Assets</th>\n",
              "      <th>Current Asset Turnover Rate</th>\n",
              "      <th>Quick Asset Turnover Rate</th>\n",
              "      <th>Working capitcal Turnover Rate</th>\n",
              "      <th>Cash Turnover Rate</th>\n",
              "      <th>Cash Flow to Sales</th>\n",
              "      <th>Fixed Assets to Assets</th>\n",
              "      <th>Current Liability to Liability</th>\n",
              "      <th>Current Liability to Equity</th>\n",
              "      <th>Equity to Long-term Liability</th>\n",
              "      <th>Cash Flow to Total Assets</th>\n",
              "      <th>Cash Flow to Liability</th>\n",
              "      <th>CFO to Assets</th>\n",
              "      <th>Cash Flow to Equity</th>\n",
              "      <th>Current Liability to Current Assets</th>\n",
              "      <th>Liability-Assets Flag</th>\n",
              "      <th>Net Income to Total Assets</th>\n",
              "      <th>Total assets to GNP price</th>\n",
              "      <th>No-credit Interval</th>\n",
              "      <th>Gross Profit to Sales</th>\n",
              "      <th>Net Income to Stockholder's Equity</th>\n",
              "      <th>Liability to Equity</th>\n",
              "      <th>Degree of Financial Leverage (DFL)</th>\n",
              "      <th>Interest Coverage Ratio (Interest expense to EBIT)</th>\n",
              "      <th>Net Income Flag</th>\n",
              "      <th>Equity to Liability</th>\n",
              "    </tr>\n",
              "  </thead>\n",
              "  <tbody>\n",
              "    <tr>\n",
              "      <th>Bankrupt?</th>\n",
              "      <td>1.0</td>\n",
              "      <td>-0.260807</td>\n",
              "      <td>-0.282941</td>\n",
              "      <td>-0.273051</td>\n",
              "      <td>-0.100043</td>\n",
              "      <td>-0.099445</td>\n",
              "      <td>-0.00023</td>\n",
              "      <td>-0.008517</td>\n",
              "      <td>-0.008857</td>\n",
              "      <td>-0.016593</td>\n",
              "      <td>-0.008395</td>\n",
              "      <td>-0.006083</td>\n",
              "      <td>-0.024232</td>\n",
              "      <td>-0.072356</td>\n",
              "      <td>-0.023063</td>\n",
              "      <td>-0.109706</td>\n",
              "      <td>-0.165399</td>\n",
              "      <td>-0.165465</td>\n",
              "      <td>-0.164784</td>\n",
              "      <td>-0.21956</td>\n",
              "      <td>-0.077516</td>\n",
              "      <td>-0.004692</td>\n",
              "      <td>-0.142051</td>\n",
              "      <td>-0.201395</td>\n",
              "      <td>-0.000458</td>\n",
              "      <td>-0.015168</td>\n",
              "      <td>-0.037783</td>\n",
              "      <td>-0.03682</td>\n",
              "      <td>-0.009401</td>\n",
              "      <td>-0.044431</td>\n",
              "      <td>0.065329</td>\n",
              "      <td>-0.016858</td>\n",
              "      <td>-0.051345</td>\n",
              "      <td>-0.002211</td>\n",
              "      <td>0.025058</td>\n",
              "      <td>-0.002681</td>\n",
              "      <td>0.012314</td>\n",
              "      <td>0.250161</td>\n",
              "      <td>-0.250161</td>\n",
              "      <td>0.01692</td>\n",
              "      <td>0.176543</td>\n",
              "      <td>0.070455</td>\n",
              "      <td>-0.141111</td>\n",
              "      <td>-0.207857</td>\n",
              "      <td>0.075278</td>\n",
              "      <td>-0.067915</td>\n",
              "      <td>-0.004754</td>\n",
              "      <td>-0.006556</td>\n",
              "      <td>-0.001376</td>\n",
              "      <td>0.072818</td>\n",
              "      <td>0.021089</td>\n",
              "      <td>0.039718</td>\n",
              "      <td>-0.092842</td>\n",
              "      <td>0.002829</td>\n",
              "      <td>-0.193083</td>\n",
              "      <td>-0.086382</td>\n",
              "      <td>-0.044823</td>\n",
              "      <td>-0.10013</td>\n",
              "      <td>-0.003823</td>\n",
              "      <td>0.077921</td>\n",
              "      <td>0.194494</td>\n",
              "      <td>-0.077082</td>\n",
              "      <td>-0.001906</td>\n",
              "      <td>0.000822</td>\n",
              "      <td>-0.020809</td>\n",
              "      <td>-0.147221</td>\n",
              "      <td>0.153828</td>\n",
              "      <td>0.000778</td>\n",
              "      <td>-0.217779</td>\n",
              "      <td>-0.007137</td>\n",
              "      <td>0.139049</td>\n",
              "      <td>0.011929</td>\n",
              "      <td>0.025814</td>\n",
              "      <td>-0.002894</td>\n",
              "      <td>-0.018035</td>\n",
              "      <td>0.000479</td>\n",
              "      <td>0.066328</td>\n",
              "      <td>-0.020809</td>\n",
              "      <td>0.153828</td>\n",
              "      <td>0.139014</td>\n",
              "      <td>-0.070456</td>\n",
              "      <td>-0.043125</td>\n",
              "      <td>-0.115383</td>\n",
              "      <td>-0.058563</td>\n",
              "      <td>0.171306</td>\n",
              "      <td>0.139212</td>\n",
              "      <td>-0.315457</td>\n",
              "      <td>0.035104</td>\n",
              "      <td>-0.005547</td>\n",
              "      <td>-0.100044</td>\n",
              "      <td>-0.180987</td>\n",
              "      <td>0.166812</td>\n",
              "      <td>0.010508</td>\n",
              "      <td>-0.005509</td>\n",
              "      <td>NaN</td>\n",
              "      <td>-0.083048</td>\n",
              "    </tr>\n",
              "  </tbody>\n",
              "</table>\n",
              "</div>\n",
              "      <button class=\"colab-df-convert\" onclick=\"convertToInteractive('df-d62c117e-b2ec-46a1-8f55-edc6216d5f34')\"\n",
              "              title=\"Convert this dataframe to an interactive table.\"\n",
              "              style=\"display:none;\">\n",
              "        \n",
              "  <svg xmlns=\"http://www.w3.org/2000/svg\" height=\"24px\"viewBox=\"0 0 24 24\"\n",
              "       width=\"24px\">\n",
              "    <path d=\"M0 0h24v24H0V0z\" fill=\"none\"/>\n",
              "    <path d=\"M18.56 5.44l.94 2.06.94-2.06 2.06-.94-2.06-.94-.94-2.06-.94 2.06-2.06.94zm-11 1L8.5 8.5l.94-2.06 2.06-.94-2.06-.94L8.5 2.5l-.94 2.06-2.06.94zm10 10l.94 2.06.94-2.06 2.06-.94-2.06-.94-.94-2.06-.94 2.06-2.06.94z\"/><path d=\"M17.41 7.96l-1.37-1.37c-.4-.4-.92-.59-1.43-.59-.52 0-1.04.2-1.43.59L10.3 9.45l-7.72 7.72c-.78.78-.78 2.05 0 2.83L4 21.41c.39.39.9.59 1.41.59.51 0 1.02-.2 1.41-.59l7.78-7.78 2.81-2.81c.8-.78.8-2.07 0-2.86zM5.41 20L4 18.59l7.72-7.72 1.47 1.35L5.41 20z\"/>\n",
              "  </svg>\n",
              "      </button>\n",
              "      \n",
              "  <style>\n",
              "    .colab-df-container {\n",
              "      display:flex;\n",
              "      flex-wrap:wrap;\n",
              "      gap: 12px;\n",
              "    }\n",
              "\n",
              "    .colab-df-convert {\n",
              "      background-color: #E8F0FE;\n",
              "      border: none;\n",
              "      border-radius: 50%;\n",
              "      cursor: pointer;\n",
              "      display: none;\n",
              "      fill: #1967D2;\n",
              "      height: 32px;\n",
              "      padding: 0 0 0 0;\n",
              "      width: 32px;\n",
              "    }\n",
              "\n",
              "    .colab-df-convert:hover {\n",
              "      background-color: #E2EBFA;\n",
              "      box-shadow: 0px 1px 2px rgba(60, 64, 67, 0.3), 0px 1px 3px 1px rgba(60, 64, 67, 0.15);\n",
              "      fill: #174EA6;\n",
              "    }\n",
              "\n",
              "    [theme=dark] .colab-df-convert {\n",
              "      background-color: #3B4455;\n",
              "      fill: #D2E3FC;\n",
              "    }\n",
              "\n",
              "    [theme=dark] .colab-df-convert:hover {\n",
              "      background-color: #434B5C;\n",
              "      box-shadow: 0px 1px 3px 1px rgba(0, 0, 0, 0.15);\n",
              "      filter: drop-shadow(0px 1px 2px rgba(0, 0, 0, 0.3));\n",
              "      fill: #FFFFFF;\n",
              "    }\n",
              "  </style>\n",
              "\n",
              "      <script>\n",
              "        const buttonEl =\n",
              "          document.querySelector('#df-d62c117e-b2ec-46a1-8f55-edc6216d5f34 button.colab-df-convert');\n",
              "        buttonEl.style.display =\n",
              "          google.colab.kernel.accessAllowed ? 'block' : 'none';\n",
              "\n",
              "        async function convertToInteractive(key) {\n",
              "          const element = document.querySelector('#df-d62c117e-b2ec-46a1-8f55-edc6216d5f34');\n",
              "          const dataTable =\n",
              "            await google.colab.kernel.invokeFunction('convertToInteractive',\n",
              "                                                     [key], {});\n",
              "          if (!dataTable) return;\n",
              "\n",
              "          const docLinkHtml = 'Like what you see? Visit the ' +\n",
              "            '<a target=\"_blank\" href=https://colab.research.google.com/notebooks/data_table.ipynb>data table notebook</a>'\n",
              "            + ' to learn more about interactive tables.';\n",
              "          element.innerHTML = '';\n",
              "          dataTable['output_type'] = 'display_data';\n",
              "          await google.colab.output.renderOutput(dataTable, element);\n",
              "          const docLink = document.createElement('div');\n",
              "          docLink.innerHTML = docLinkHtml;\n",
              "          element.appendChild(docLink);\n",
              "        }\n",
              "      </script>\n",
              "    </div>\n",
              "  </div>\n",
              "  "
            ]
          },
          "metadata": {},
          "execution_count": 9
        }
      ],
      "source": [
        "df_corr = df.corr()\n",
        "imp = df_corr[0:1]\n",
        "imp"
      ]
    },
    {
      "cell_type": "code",
      "execution_count": null,
      "metadata": {
        "id": "UeluNUFYmiEv"
      },
      "outputs": [],
      "source": [
        "# Extracting important columns\n",
        "# Creating list for higher correlation values for important columns\n",
        "col_value = [col for col in imp.iloc[0,:]]\n",
        "pos_values = [val for val in col_value if val>0.15 and val<=1]\n",
        "neg_values = [val2 for val2 in col_value if val2<(-0.15)]\n",
        "\n",
        "# Creating the final column for our new database\n",
        "pos_col = [col for col in imp.columns if imp.loc[:,[col]].iat[0,0] in pos_values]\n",
        "neg_col = [col2 for col2 in imp.columns if imp.loc[:,[col2]].iat[0,0] in neg_values]\n",
        "final_imp_col = pos_col + neg_col"
      ]
    },
    {
      "cell_type": "code",
      "execution_count": null,
      "metadata": {
        "colab": {
          "base_uri": "https://localhost:8080/"
        },
        "id": "5iSa14SomiEw",
        "outputId": "3ff2a508-40f7-463f-f6e0-ac457387af21"
      },
      "outputs": [
        {
          "output_type": "execute_result",
          "data": {
            "text/plain": [
              "22"
            ]
          },
          "metadata": {},
          "execution_count": 11
        }
      ],
      "source": [
        "len(final_imp_col)"
      ]
    },
    {
      "cell_type": "code",
      "execution_count": null,
      "metadata": {
        "id": "hifASSVPmiEx"
      },
      "outputs": [],
      "source": [
        "df_new = df[final_imp_col]"
      ]
    },
    {
      "cell_type": "code",
      "execution_count": null,
      "metadata": {
        "colab": {
          "base_uri": "https://localhost:8080/",
          "height": 249
        },
        "id": "L0owBRNzmiEy",
        "outputId": "5fc1dc51-0ad0-4787-de13-4efa87b76dc4"
      },
      "outputs": [
        {
          "output_type": "execute_result",
          "data": {
            "text/plain": [
              "           Bankrupt?   Debt ratio %   Borrowing dependency  \\\n",
              "Bankrupt?        1.0       0.250161               0.176543   \n",
              "\n",
              "            Current Liability to Assets   Current Liabilities/Equity  \\\n",
              "Bankrupt?                      0.194494                     0.153828   \n",
              "\n",
              "            Current Liability to Equity   Current Liability to Current Assets  \\\n",
              "Bankrupt?                      0.153828                              0.171306   \n",
              "\n",
              "            Liability to Equity  \\\n",
              "Bankrupt?              0.166812   \n",
              "\n",
              "            ROA(C) before interest and depreciation before interest  \\\n",
              "Bankrupt?                                          -0.260807          \n",
              "\n",
              "            ROA(A) before interest and % after tax  \\\n",
              "Bankrupt?                                -0.282941   \n",
              "\n",
              "            ROA(B) before interest and depreciation after tax  \\\n",
              "Bankrupt?                                          -0.273051    \n",
              "\n",
              "            Net Value Per Share (B)   Net Value Per Share (A)  \\\n",
              "Bankrupt?                 -0.165399                 -0.165465   \n",
              "\n",
              "            Net Value Per Share (C)   Persistent EPS in the Last Four Seasons  \\\n",
              "Bankrupt?                 -0.164784                                  -0.21956   \n",
              "\n",
              "            Per Share Net profit before tax (Yuan ¥)   Net worth/Assets  \\\n",
              "Bankrupt?                                  -0.201395          -0.250161   \n",
              "\n",
              "            Net profit before tax/Paid-in capital  \\\n",
              "Bankrupt?                               -0.207857   \n",
              "\n",
              "            Working Capital to Total Assets  \\\n",
              "Bankrupt?                         -0.193083   \n",
              "\n",
              "            Retained Earnings to Total Assets   Net Income to Total Assets  \\\n",
              "Bankrupt?                           -0.217779                    -0.315457   \n",
              "\n",
              "            Net Income to Stockholder's Equity  \n",
              "Bankrupt?                            -0.180987  "
            ],
            "text/html": [
              "\n",
              "  <div id=\"df-f8305ffa-39b3-48b1-a40d-6c84a392deb2\">\n",
              "    <div class=\"colab-df-container\">\n",
              "      <div>\n",
              "<style scoped>\n",
              "    .dataframe tbody tr th:only-of-type {\n",
              "        vertical-align: middle;\n",
              "    }\n",
              "\n",
              "    .dataframe tbody tr th {\n",
              "        vertical-align: top;\n",
              "    }\n",
              "\n",
              "    .dataframe thead th {\n",
              "        text-align: right;\n",
              "    }\n",
              "</style>\n",
              "<table border=\"1\" class=\"dataframe\">\n",
              "  <thead>\n",
              "    <tr style=\"text-align: right;\">\n",
              "      <th></th>\n",
              "      <th>Bankrupt?</th>\n",
              "      <th>Debt ratio %</th>\n",
              "      <th>Borrowing dependency</th>\n",
              "      <th>Current Liability to Assets</th>\n",
              "      <th>Current Liabilities/Equity</th>\n",
              "      <th>Current Liability to Equity</th>\n",
              "      <th>Current Liability to Current Assets</th>\n",
              "      <th>Liability to Equity</th>\n",
              "      <th>ROA(C) before interest and depreciation before interest</th>\n",
              "      <th>ROA(A) before interest and % after tax</th>\n",
              "      <th>ROA(B) before interest and depreciation after tax</th>\n",
              "      <th>Net Value Per Share (B)</th>\n",
              "      <th>Net Value Per Share (A)</th>\n",
              "      <th>Net Value Per Share (C)</th>\n",
              "      <th>Persistent EPS in the Last Four Seasons</th>\n",
              "      <th>Per Share Net profit before tax (Yuan ¥)</th>\n",
              "      <th>Net worth/Assets</th>\n",
              "      <th>Net profit before tax/Paid-in capital</th>\n",
              "      <th>Working Capital to Total Assets</th>\n",
              "      <th>Retained Earnings to Total Assets</th>\n",
              "      <th>Net Income to Total Assets</th>\n",
              "      <th>Net Income to Stockholder's Equity</th>\n",
              "    </tr>\n",
              "  </thead>\n",
              "  <tbody>\n",
              "    <tr>\n",
              "      <th>Bankrupt?</th>\n",
              "      <td>1.0</td>\n",
              "      <td>0.250161</td>\n",
              "      <td>0.176543</td>\n",
              "      <td>0.194494</td>\n",
              "      <td>0.153828</td>\n",
              "      <td>0.153828</td>\n",
              "      <td>0.171306</td>\n",
              "      <td>0.166812</td>\n",
              "      <td>-0.260807</td>\n",
              "      <td>-0.282941</td>\n",
              "      <td>-0.273051</td>\n",
              "      <td>-0.165399</td>\n",
              "      <td>-0.165465</td>\n",
              "      <td>-0.164784</td>\n",
              "      <td>-0.21956</td>\n",
              "      <td>-0.201395</td>\n",
              "      <td>-0.250161</td>\n",
              "      <td>-0.207857</td>\n",
              "      <td>-0.193083</td>\n",
              "      <td>-0.217779</td>\n",
              "      <td>-0.315457</td>\n",
              "      <td>-0.180987</td>\n",
              "    </tr>\n",
              "  </tbody>\n",
              "</table>\n",
              "</div>\n",
              "      <button class=\"colab-df-convert\" onclick=\"convertToInteractive('df-f8305ffa-39b3-48b1-a40d-6c84a392deb2')\"\n",
              "              title=\"Convert this dataframe to an interactive table.\"\n",
              "              style=\"display:none;\">\n",
              "        \n",
              "  <svg xmlns=\"http://www.w3.org/2000/svg\" height=\"24px\"viewBox=\"0 0 24 24\"\n",
              "       width=\"24px\">\n",
              "    <path d=\"M0 0h24v24H0V0z\" fill=\"none\"/>\n",
              "    <path d=\"M18.56 5.44l.94 2.06.94-2.06 2.06-.94-2.06-.94-.94-2.06-.94 2.06-2.06.94zm-11 1L8.5 8.5l.94-2.06 2.06-.94-2.06-.94L8.5 2.5l-.94 2.06-2.06.94zm10 10l.94 2.06.94-2.06 2.06-.94-2.06-.94-.94-2.06-.94 2.06-2.06.94z\"/><path d=\"M17.41 7.96l-1.37-1.37c-.4-.4-.92-.59-1.43-.59-.52 0-1.04.2-1.43.59L10.3 9.45l-7.72 7.72c-.78.78-.78 2.05 0 2.83L4 21.41c.39.39.9.59 1.41.59.51 0 1.02-.2 1.41-.59l7.78-7.78 2.81-2.81c.8-.78.8-2.07 0-2.86zM5.41 20L4 18.59l7.72-7.72 1.47 1.35L5.41 20z\"/>\n",
              "  </svg>\n",
              "      </button>\n",
              "      \n",
              "  <style>\n",
              "    .colab-df-container {\n",
              "      display:flex;\n",
              "      flex-wrap:wrap;\n",
              "      gap: 12px;\n",
              "    }\n",
              "\n",
              "    .colab-df-convert {\n",
              "      background-color: #E8F0FE;\n",
              "      border: none;\n",
              "      border-radius: 50%;\n",
              "      cursor: pointer;\n",
              "      display: none;\n",
              "      fill: #1967D2;\n",
              "      height: 32px;\n",
              "      padding: 0 0 0 0;\n",
              "      width: 32px;\n",
              "    }\n",
              "\n",
              "    .colab-df-convert:hover {\n",
              "      background-color: #E2EBFA;\n",
              "      box-shadow: 0px 1px 2px rgba(60, 64, 67, 0.3), 0px 1px 3px 1px rgba(60, 64, 67, 0.15);\n",
              "      fill: #174EA6;\n",
              "    }\n",
              "\n",
              "    [theme=dark] .colab-df-convert {\n",
              "      background-color: #3B4455;\n",
              "      fill: #D2E3FC;\n",
              "    }\n",
              "\n",
              "    [theme=dark] .colab-df-convert:hover {\n",
              "      background-color: #434B5C;\n",
              "      box-shadow: 0px 1px 3px 1px rgba(0, 0, 0, 0.15);\n",
              "      filter: drop-shadow(0px 1px 2px rgba(0, 0, 0, 0.3));\n",
              "      fill: #FFFFFF;\n",
              "    }\n",
              "  </style>\n",
              "\n",
              "      <script>\n",
              "        const buttonEl =\n",
              "          document.querySelector('#df-f8305ffa-39b3-48b1-a40d-6c84a392deb2 button.colab-df-convert');\n",
              "        buttonEl.style.display =\n",
              "          google.colab.kernel.accessAllowed ? 'block' : 'none';\n",
              "\n",
              "        async function convertToInteractive(key) {\n",
              "          const element = document.querySelector('#df-f8305ffa-39b3-48b1-a40d-6c84a392deb2');\n",
              "          const dataTable =\n",
              "            await google.colab.kernel.invokeFunction('convertToInteractive',\n",
              "                                                     [key], {});\n",
              "          if (!dataTable) return;\n",
              "\n",
              "          const docLinkHtml = 'Like what you see? Visit the ' +\n",
              "            '<a target=\"_blank\" href=https://colab.research.google.com/notebooks/data_table.ipynb>data table notebook</a>'\n",
              "            + ' to learn more about interactive tables.';\n",
              "          element.innerHTML = '';\n",
              "          dataTable['output_type'] = 'display_data';\n",
              "          await google.colab.output.renderOutput(dataTable, element);\n",
              "          const docLink = document.createElement('div');\n",
              "          docLink.innerHTML = docLinkHtml;\n",
              "          element.appendChild(docLink);\n",
              "        }\n",
              "      </script>\n",
              "    </div>\n",
              "  </div>\n",
              "  "
            ]
          },
          "metadata": {},
          "execution_count": 13
        }
      ],
      "source": [
        "df_new.corr()[0:1]"
      ]
    },
    {
      "cell_type": "code",
      "execution_count": null,
      "metadata": {
        "scrolled": true,
        "colab": {
          "base_uri": "https://localhost:8080/"
        },
        "id": "DrLKt9SDmiEz",
        "outputId": "2a636225-bed5-453a-a4c1-f07436bc8073"
      },
      "outputs": [
        {
          "output_type": "execute_result",
          "data": {
            "text/plain": [
              "array([1, 0])"
            ]
          },
          "metadata": {},
          "execution_count": 14
        }
      ],
      "source": [
        "df_new['Bankrupt?'].unique()"
      ]
    },
    {
      "cell_type": "code",
      "execution_count": null,
      "metadata": {
        "id": "aWWYIumImiE0"
      },
      "outputs": [],
      "source": [
        "x = df_new.drop('Bankrupt?', axis=1)\n",
        "y = df_new['Bankrupt?']"
      ]
    },
    {
      "cell_type": "code",
      "execution_count": null,
      "metadata": {
        "colab": {
          "base_uri": "https://localhost:8080/"
        },
        "id": "QHvmWj5VmiE1",
        "outputId": "abf78672-7c25-42d8-f4f0-4159302b98b5"
      },
      "outputs": [
        {
          "output_type": "execute_result",
          "data": {
            "text/plain": [
              "(6819, 21)"
            ]
          },
          "metadata": {},
          "execution_count": 16
        }
      ],
      "source": [
        "x.shape"
      ]
    },
    {
      "cell_type": "code",
      "execution_count": null,
      "metadata": {
        "colab": {
          "base_uri": "https://localhost:8080/"
        },
        "id": "U8MO4jLRmiE2",
        "outputId": "ecabbc25-8df6-4746-c0af-6cf2168b8481"
      },
      "outputs": [
        {
          "output_type": "execute_result",
          "data": {
            "text/plain": [
              "(6819,)"
            ]
          },
          "metadata": {},
          "execution_count": 17
        }
      ],
      "source": [
        "y.shape"
      ]
    },
    {
      "cell_type": "markdown",
      "metadata": {
        "id": "66c2ktXymiE2"
      },
      "source": [
        "### Train test split"
      ]
    },
    {
      "cell_type": "code",
      "execution_count": null,
      "metadata": {
        "id": "pUCKtg8AmiE3"
      },
      "outputs": [],
      "source": [
        "from sklearn.model_selection import train_test_split\n",
        "x_train, x_test, y_train, y_test = train_test_split(x,y, test_size=0.2)"
      ]
    },
    {
      "cell_type": "code",
      "execution_count": null,
      "metadata": {
        "colab": {
          "base_uri": "https://localhost:8080/"
        },
        "id": "w0u8FZMpmiE4",
        "outputId": "046aa834-7768-460d-bc59-9d5158932c08"
      },
      "outputs": [
        {
          "output_type": "execute_result",
          "data": {
            "text/plain": [
              "(5455, 21)"
            ]
          },
          "metadata": {},
          "execution_count": 19
        }
      ],
      "source": [
        "x_train.shape"
      ]
    },
    {
      "cell_type": "code",
      "execution_count": null,
      "metadata": {
        "colab": {
          "base_uri": "https://localhost:8080/"
        },
        "id": "eTNPwdzpmiE5",
        "outputId": "7d0812b5-6969-4109-ed81-733a6f5b735e"
      },
      "outputs": [
        {
          "output_type": "execute_result",
          "data": {
            "text/plain": [
              "(5455,)"
            ]
          },
          "metadata": {},
          "execution_count": 20
        }
      ],
      "source": [
        "y_train.shape"
      ]
    },
    {
      "cell_type": "code",
      "execution_count": null,
      "metadata": {
        "colab": {
          "base_uri": "https://localhost:8080/"
        },
        "id": "Hahlti7smiE6",
        "outputId": "e5fb6ca0-887e-4671-dcdf-44925eada3fb"
      },
      "outputs": [
        {
          "output_type": "execute_result",
          "data": {
            "text/plain": [
              "(1364, 21)"
            ]
          },
          "metadata": {},
          "execution_count": 21
        }
      ],
      "source": [
        "x_test.shape"
      ]
    },
    {
      "cell_type": "code",
      "execution_count": null,
      "metadata": {
        "colab": {
          "base_uri": "https://localhost:8080/"
        },
        "id": "N9if1P8RmiE7",
        "outputId": "ca77ea28-bd9f-4862-8ca0-d04310df3a6c"
      },
      "outputs": [
        {
          "output_type": "execute_result",
          "data": {
            "text/plain": [
              "(1364,)"
            ]
          },
          "metadata": {},
          "execution_count": 22
        }
      ],
      "source": [
        "y_test.shape"
      ]
    },
    {
      "cell_type": "markdown",
      "metadata": {
        "id": "W-0-m3eCmiE8"
      },
      "source": [
        "### Logistic Regression"
      ]
    },
    {
      "cell_type": "code",
      "execution_count": null,
      "metadata": {
        "id": "DeCs7HJpmiE8"
      },
      "outputs": [],
      "source": [
        "from sklearn.linear_model import LogisticRegression"
      ]
    },
    {
      "cell_type": "code",
      "execution_count": null,
      "metadata": {
        "colab": {
          "base_uri": "https://localhost:8080/"
        },
        "id": "ApNGcHPymiE9",
        "outputId": "5af87eb0-0f8f-44fb-a819-576b7893be48"
      },
      "outputs": [
        {
          "output_type": "stream",
          "name": "stderr",
          "text": [
            "/usr/local/lib/python3.7/dist-packages/sklearn/svm/_base.py:1208: ConvergenceWarning: Liblinear failed to converge, increase the number of iterations.\n",
            "  ConvergenceWarning,\n"
          ]
        },
        {
          "output_type": "execute_result",
          "data": {
            "text/plain": [
              "LogisticRegression(max_iter=20, penalty='l1', random_state=0,\n",
              "                   solver='liblinear')"
            ]
          },
          "metadata": {},
          "execution_count": 24
        }
      ],
      "source": [
        "model1=LogisticRegression(C=1.0, class_weight=None, dual=False, fit_intercept=True,\n",
        "                   intercept_scaling=1, l1_ratio=None, max_iter=20, n_jobs=None, penalty='l1',\n",
        "                   random_state=0, solver='liblinear', tol=0.0001, verbose=0,\n",
        "                   warm_start=False)\n",
        "model1.fit(x_train, y_train)"
      ]
    },
    {
      "cell_type": "code",
      "execution_count": null,
      "metadata": {
        "colab": {
          "base_uri": "https://localhost:8080/"
        },
        "id": "FguK-OfZmiE9",
        "outputId": "a0c7a58d-19b6-4e2a-87fa-613c201d5fe0"
      },
      "outputs": [
        {
          "output_type": "execute_result",
          "data": {
            "text/plain": [
              "0.9695692025664528"
            ]
          },
          "metadata": {},
          "execution_count": 25
        }
      ],
      "source": [
        "model1.score(x_train, y_train)"
      ]
    },
    {
      "cell_type": "code",
      "execution_count": null,
      "metadata": {
        "colab": {
          "base_uri": "https://localhost:8080/"
        },
        "id": "9kUDrB16miE-",
        "outputId": "895b360b-2609-4291-e5c8-0b4719cf1d18"
      },
      "outputs": [
        {
          "output_type": "execute_result",
          "data": {
            "text/plain": [
              "0.9655425219941349"
            ]
          },
          "metadata": {},
          "execution_count": 26
        }
      ],
      "source": [
        "model1.score(x_test, y_test)"
      ]
    },
    {
      "cell_type": "code",
      "execution_count": null,
      "metadata": {
        "colab": {
          "base_uri": "https://localhost:8080/"
        },
        "id": "qiV50HOemiE_",
        "outputId": "f676b516-9f1b-4239-b68c-6e72cd3fe5d1"
      },
      "outputs": [
        {
          "output_type": "execute_result",
          "data": {
            "text/plain": [
              "0.9655425219941349"
            ]
          },
          "metadata": {},
          "execution_count": 27
        }
      ],
      "source": [
        "from sklearn.metrics import accuracy_score\n",
        "pred = model1.predict(x_test)\n",
        "score = accuracy_score(y_test, pred)\n",
        "score"
      ]
    },
    {
      "cell_type": "markdown",
      "metadata": {
        "id": "07508f19"
      },
      "source": [
        "### Decision Tree"
      ]
    },
    {
      "cell_type": "code",
      "execution_count": null,
      "metadata": {
        "id": "5784fc91"
      },
      "outputs": [],
      "source": [
        "from sklearn.tree import DecisionTreeClassifier"
      ]
    },
    {
      "cell_type": "code",
      "execution_count": null,
      "metadata": {
        "id": "29a25a93"
      },
      "outputs": [],
      "source": [
        "model2 = DecisionTreeClassifier(criterion = \"gini\",\n",
        "            random_state = 0,max_depth=3, min_samples_leaf=15)"
      ]
    },
    {
      "cell_type": "code",
      "execution_count": null,
      "metadata": {
        "colab": {
          "base_uri": "https://localhost:8080/"
        },
        "id": "c1ab2013",
        "outputId": "0fd7f72e-325d-4177-e285-c808b3743839"
      },
      "outputs": [
        {
          "output_type": "execute_result",
          "data": {
            "text/plain": [
              "DecisionTreeClassifier(max_depth=3, min_samples_leaf=15, random_state=0)"
            ]
          },
          "metadata": {},
          "execution_count": 30
        }
      ],
      "source": [
        "# fitting the decision tree model\n",
        "model2.fit(x_train,y_train)"
      ]
    },
    {
      "cell_type": "code",
      "execution_count": null,
      "metadata": {
        "id": "b064646c"
      },
      "outputs": [],
      "source": [
        "# making prediction on the validation set\n",
        "pred2 = model2.predict(x_test)"
      ]
    },
    {
      "cell_type": "code",
      "execution_count": null,
      "metadata": {
        "colab": {
          "base_uri": "https://localhost:8080/"
        },
        "id": "bb2464bf",
        "outputId": "ff16d307-ff2f-4666-d800-1e114ac62398"
      },
      "outputs": [
        {
          "output_type": "execute_result",
          "data": {
            "text/plain": [
              "0.9703024747937672"
            ]
          },
          "metadata": {},
          "execution_count": 32
        }
      ],
      "source": [
        "model2.score(x_train,y_train)"
      ]
    },
    {
      "cell_type": "code",
      "execution_count": null,
      "metadata": {
        "colab": {
          "base_uri": "https://localhost:8080/"
        },
        "id": "QDPONs57miFD",
        "outputId": "fdc000fb-c146-4c62-88f0-93abe13e87ff"
      },
      "outputs": [
        {
          "output_type": "execute_result",
          "data": {
            "text/plain": [
              "0.9640762463343109"
            ]
          },
          "metadata": {},
          "execution_count": 33
        }
      ],
      "source": [
        "model2.score(x_test,y_test)"
      ]
    },
    {
      "cell_type": "code",
      "execution_count": null,
      "metadata": {
        "colab": {
          "base_uri": "https://localhost:8080/"
        },
        "id": "7SuawI_OmiFE",
        "outputId": "b9347faf-d787-486a-dcf3-d70ad6fda452"
      },
      "outputs": [
        {
          "output_type": "execute_result",
          "data": {
            "text/plain": [
              "0.9640762463343109"
            ]
          },
          "metadata": {},
          "execution_count": 34
        }
      ],
      "source": [
        "from sklearn.metrics import accuracy_score\n",
        "pred = model2.predict(x_test)\n",
        "score = accuracy_score(y_test, pred)\n",
        "score"
      ]
    },
    {
      "cell_type": "markdown",
      "metadata": {
        "id": "Dev4ZcWAmiFE"
      },
      "source": [
        "### Random Forest"
      ]
    },
    {
      "cell_type": "code",
      "execution_count": null,
      "metadata": {
        "id": "21dec607"
      },
      "outputs": [],
      "source": [
        "from sklearn.ensemble import RandomForestClassifier"
      ]
    },
    {
      "cell_type": "code",
      "execution_count": null,
      "metadata": {
        "colab": {
          "base_uri": "https://localhost:8080/"
        },
        "id": "e9d5e2ad",
        "outputId": "5c7c0f09-9d1c-4b9a-90a3-154d1479a57a"
      },
      "outputs": [
        {
          "output_type": "execute_result",
          "data": {
            "text/plain": [
              "RandomForestClassifier(criterion='entropy', min_samples_leaf=6, n_estimators=5,\n",
              "                       n_jobs=2, random_state=0)"
            ]
          },
          "metadata": {},
          "execution_count": 37
        }
      ],
      "source": [
        "model3 = RandomForestClassifier(bootstrap=True, class_weight=None, criterion='entropy',\n",
        "            max_depth=None, max_features='auto', max_leaf_nodes=None,min_samples_leaf=6,\n",
        "            min_samples_split=2, min_weight_fraction_leaf=0.0,\n",
        "            n_estimators=5, n_jobs=2, oob_score=False, random_state=0,\n",
        "            verbose=0, warm_start=False)\n",
        "model3.fit(x_train, y_train)"
      ]
    },
    {
      "cell_type": "code",
      "execution_count": null,
      "metadata": {
        "colab": {
          "base_uri": "https://localhost:8080/"
        },
        "id": "03c3cbae",
        "outputId": "0cb78fcc-f6f7-444d-e098-27818fc1d2a4"
      },
      "outputs": [
        {
          "output_type": "execute_result",
          "data": {
            "text/plain": [
              "0.9802016498625115"
            ]
          },
          "metadata": {},
          "execution_count": 38
        }
      ],
      "source": [
        "model3.score(x_train,y_train)"
      ]
    },
    {
      "cell_type": "code",
      "execution_count": null,
      "metadata": {
        "colab": {
          "base_uri": "https://localhost:8080/"
        },
        "id": "oeAwXzOmmiFG",
        "outputId": "cd7e5d14-85cf-4883-d41c-fb18ea2acfa2"
      },
      "outputs": [
        {
          "output_type": "execute_result",
          "data": {
            "text/plain": [
              "0.9633431085043989"
            ]
          },
          "metadata": {},
          "execution_count": 39
        }
      ],
      "source": [
        "model3.score(x_test,y_test)"
      ]
    },
    {
      "cell_type": "code",
      "execution_count": null,
      "metadata": {
        "colab": {
          "base_uri": "https://localhost:8080/"
        },
        "id": "3KWG_cW0miFH",
        "outputId": "89314a5a-7496-48c9-d12d-1a323fe529a2"
      },
      "outputs": [
        {
          "output_type": "stream",
          "name": "stdout",
          "text": [
            "96.33 %\n"
          ]
        }
      ],
      "source": [
        "from sklearn.metrics import accuracy_score\n",
        "pred = model3.predict(x_test)\n",
        "score = accuracy_score(y_test, pred)\n",
        "print(f'{round(score*100,2)} %')"
      ]
    },
    {
      "cell_type": "code",
      "execution_count": null,
      "metadata": {
        "colab": {
          "base_uri": "https://localhost:8080/"
        },
        "id": "MHahR4lImiFI",
        "outputId": "03705fc8-e231-4634-a635-46203d8db54b"
      },
      "outputs": [
        {
          "output_type": "stream",
          "name": "stdout",
          "text": [
            "Fitting 3 folds for each of 48 candidates, totalling 144 fits\n"
          ]
        },
        {
          "output_type": "execute_result",
          "data": {
            "text/plain": [
              "GridSearchCV(cv=3, estimator=RandomForestClassifier(random_state=40), n_jobs=-1,\n",
              "             param_grid=[{'max_depth': [10, 20, 25, 50],\n",
              "                          'max_features': ['auto', 'sqrt', 'log2'],\n",
              "                          'n_estimators': [10, 20, 40, 50]}],\n",
              "             scoring='r2', verbose=2)"
            ]
          },
          "metadata": {},
          "execution_count": 41
        }
      ],
      "source": [
        "# Specifying the hyperparameter values \n",
        "from sklearn.model_selection import GridSearchCV\n",
        "param_grid = [{\n",
        "              'max_depth': [10, 20, 25,50],\n",
        "              'n_estimators' : [10,20,40, 50],\n",
        "              'max_features': [\"auto\", \"sqrt\", \"log2\"]\n",
        "            }]\n",
        "reg = RandomForestClassifier(random_state=40)\n",
        "\n",
        "# Instantiate the grid search model\n",
        "grid_search = GridSearchCV(estimator = reg, param_grid = param_grid, cv = 3, n_jobs = -1 , scoring='r2' , verbose=2)\n",
        "grid_search.fit(x_train, y_train)"
      ]
    },
    {
      "cell_type": "code",
      "execution_count": null,
      "metadata": {
        "execution": {
          "iopub.execute_input": "2021-12-14T14:47:11.077596Z",
          "iopub.status.busy": "2021-12-14T14:47:11.076895Z",
          "iopub.status.idle": "2021-12-14T14:47:11.082458Z",
          "shell.execute_reply": "2021-12-14T14:47:11.083300Z",
          "shell.execute_reply.started": "2021-12-10T12:23:42.859069Z"
        },
        "papermill": {
          "duration": 0.153125,
          "end_time": "2021-12-14T14:47:11.083560",
          "exception": false,
          "start_time": "2021-12-14T14:47:10.930435",
          "status": "completed"
        },
        "tags": [],
        "colab": {
          "base_uri": "https://localhost:8080/"
        },
        "id": "a9694278",
        "outputId": "06999ffc-eff6-4c89-f22b-b66cd26592b5"
      },
      "outputs": [
        {
          "output_type": "execute_result",
          "data": {
            "text/plain": [
              "{'max_depth': 10, 'max_features': 'auto', 'n_estimators': 40}"
            ]
          },
          "metadata": {},
          "execution_count": 42
        }
      ],
      "source": [
        "# Tuned parameter set\n",
        "grid_search.best_params_"
      ]
    },
    {
      "cell_type": "code",
      "execution_count": null,
      "metadata": {
        "execution": {
          "iopub.execute_input": "2021-12-14T14:47:11.365711Z",
          "iopub.status.busy": "2021-12-14T14:47:11.364997Z",
          "iopub.status.idle": "2021-12-14T14:47:11.370384Z",
          "shell.execute_reply": "2021-12-14T14:47:11.370969Z",
          "shell.execute_reply.started": "2021-12-10T12:23:42.865788Z"
        },
        "papermill": {
          "duration": 0.149013,
          "end_time": "2021-12-14T14:47:11.371141",
          "exception": false,
          "start_time": "2021-12-14T14:47:11.222128",
          "status": "completed"
        },
        "tags": [],
        "colab": {
          "base_uri": "https://localhost:8080/"
        },
        "id": "5fb0d057",
        "outputId": "ec1dd7a1-9e72-44ab-e3e1-5db6c6954ddf"
      },
      "outputs": [
        {
          "output_type": "execute_result",
          "data": {
            "text/plain": [
              "RandomForestClassifier(max_depth=10, n_estimators=40, random_state=40)"
            ]
          },
          "metadata": {},
          "execution_count": 43
        }
      ],
      "source": [
        "# Best possible parameters for ExtraTreesRegressor\n",
        "grid_search.best_estimator_"
      ]
    },
    {
      "cell_type": "code",
      "execution_count": null,
      "metadata": {
        "execution": {
          "iopub.execute_input": "2021-12-14T14:47:11.652633Z",
          "iopub.status.busy": "2021-12-14T14:47:11.651934Z",
          "iopub.status.idle": "2021-12-14T14:47:12.992665Z",
          "shell.execute_reply": "2021-12-14T14:47:12.993202Z",
          "shell.execute_reply.started": "2021-12-10T12:23:42.886102Z"
        },
        "papermill": {
          "duration": 1.483068,
          "end_time": "2021-12-14T14:47:12.993394",
          "exception": false,
          "start_time": "2021-12-14T14:47:11.510326",
          "status": "completed"
        },
        "tags": [],
        "id": "ad7890f3"
      },
      "outputs": [],
      "source": [
        "# R2 score on training set with tuned parameters\n",
        "\n",
        "Train_R2_Score = grid_search.best_estimator_.score(x_train,y_train)"
      ]
    },
    {
      "cell_type": "code",
      "execution_count": null,
      "metadata": {
        "execution": {
          "iopub.execute_input": "2021-12-14T14:47:13.281782Z",
          "iopub.status.busy": "2021-12-14T14:47:13.281048Z",
          "iopub.status.idle": "2021-12-14T14:47:13.695076Z",
          "shell.execute_reply": "2021-12-14T14:47:13.694442Z",
          "shell.execute_reply.started": "2021-12-10T12:23:44.410279Z"
        },
        "papermill": {
          "duration": 0.560199,
          "end_time": "2021-12-14T14:47:13.695222",
          "exception": false,
          "start_time": "2021-12-14T14:47:13.135023",
          "status": "completed"
        },
        "tags": [],
        "id": "27d51037"
      },
      "outputs": [],
      "source": [
        "# R2 score on test set with tuned parameters\n",
        "Test_R2_Score = grid_search.best_estimator_.score(x_test,y_test)"
      ]
    },
    {
      "cell_type": "code",
      "execution_count": null,
      "metadata": {
        "execution": {
          "iopub.execute_input": "2021-12-14T14:47:14.003299Z",
          "iopub.status.busy": "2021-12-14T14:47:14.000673Z",
          "iopub.status.idle": "2021-12-14T14:47:14.407046Z",
          "shell.execute_reply": "2021-12-14T14:47:14.406338Z",
          "shell.execute_reply.started": "2021-12-10T12:23:44.874336Z"
        },
        "papermill": {
          "duration": 0.563255,
          "end_time": "2021-12-14T14:47:14.407202",
          "exception": false,
          "start_time": "2021-12-14T14:47:13.843947",
          "status": "completed"
        },
        "tags": [],
        "id": "8bebfb1e"
      },
      "outputs": [],
      "source": [
        "# RMSE score on test set with tuned parameters\n",
        "from sklearn.metrics import mean_squared_error\n",
        "Test_RMSE_Score = np.sqrt(mean_squared_error(y_test, grid_search.best_estimator_.predict(x_test)))"
      ]
    },
    {
      "cell_type": "markdown",
      "metadata": {
        "id": "f96ab163"
      },
      "source": [
        "### Perform some predictions with input values(physical and temporal feautres) and compare with available output values(Appliance use). Finally deploy the model."
      ]
    },
    {
      "cell_type": "markdown",
      "metadata": {
        "id": "4f28717a"
      },
      "source": [
        "### Performing some predictions"
      ]
    },
    {
      "cell_type": "code",
      "execution_count": null,
      "metadata": {
        "id": "d0941cf3"
      },
      "outputs": [],
      "source": [
        "reg.fit(x_train, y_train)\n",
        "y_pred = reg.predict(x_test)"
      ]
    },
    {
      "cell_type": "code",
      "execution_count": null,
      "metadata": {
        "colab": {
          "base_uri": "https://localhost:8080/"
        },
        "id": "e5b2b479",
        "outputId": "5877e7c6-829e-4de8-a111-7f63db71d47e"
      },
      "outputs": [
        {
          "output_type": "execute_result",
          "data": {
            "text/plain": [
              "1.0"
            ]
          },
          "metadata": {},
          "execution_count": 48
        }
      ],
      "source": [
        "score = reg.score(x_train, y_train)\n",
        "score"
      ]
    },
    {
      "cell_type": "code",
      "execution_count": null,
      "metadata": {
        "colab": {
          "base_uri": "https://localhost:8080/"
        },
        "id": "6cf9a8a9",
        "outputId": "34210053-9180-48ba-d61c-70f2ab292a8b"
      },
      "outputs": [
        {
          "output_type": "stream",
          "name": "stdout",
          "text": [
            "Index([' Debt ratio %', ' Borrowing dependency',\n",
            "       ' Current Liability to Assets', ' Current Liabilities/Equity',\n",
            "       ' Current Liability to Equity', ' Current Liability to Current Assets',\n",
            "       ' Liability to Equity',\n",
            "       ' ROA(C) before interest and depreciation before interest',\n",
            "       ' ROA(A) before interest and % after tax',\n",
            "       ' ROA(B) before interest and depreciation after tax',\n",
            "       ' Net Value Per Share (B)', ' Net Value Per Share (A)',\n",
            "       ' Net Value Per Share (C)', ' Persistent EPS in the Last Four Seasons',\n",
            "       ' Per Share Net profit before tax (Yuan ¥)', ' Net worth/Assets',\n",
            "       ' Net profit before tax/Paid-in capital',\n",
            "       ' Working Capital to Total Assets',\n",
            "       ' Retained Earnings to Total Assets', ' Net Income to Total Assets',\n",
            "       ' Net Income to Stockholder's Equity'],\n",
            "      dtype='object')\n"
          ]
        }
      ],
      "source": [
        "print(x_test.columns)"
      ]
    },
    {
      "cell_type": "code",
      "execution_count": null,
      "metadata": {
        "colab": {
          "base_uri": "https://localhost:8080/",
          "height": 266
        },
        "id": "b579609b",
        "outputId": "20604ee3-fbaa-4cae-95b5-0367883fbdea"
      },
      "outputs": [
        {
          "output_type": "execute_result",
          "data": {
            "text/plain": [
              "       Debt ratio %   Borrowing dependency   Current Liability to Assets  \\\n",
              "2546       0.170904               0.377047                      0.067646   \n",
              "\n",
              "       Current Liabilities/Equity   Current Liability to Equity  \\\n",
              "2546                     0.330396                      0.330396   \n",
              "\n",
              "       Current Liability to Current Assets   Liability to Equity  \\\n",
              "2546                               0.23804              0.283809   \n",
              "\n",
              "       ROA(C) before interest and depreciation before interest  \\\n",
              "2546                                           0.447375          \n",
              "\n",
              "       ROA(A) before interest and % after tax  \\\n",
              "2546                                 0.516572   \n",
              "\n",
              "       ROA(B) before interest and depreciation after tax  \\\n",
              "2546                                           0.498099    \n",
              "\n",
              "       Net Value Per Share (B)   Net Value Per Share (A)  \\\n",
              "2546                   0.16746                   0.16746   \n",
              "\n",
              "       Net Value Per Share (C)   Persistent EPS in the Last Four Seasons  \\\n",
              "2546                   0.16746                                  0.204689   \n",
              "\n",
              "       Per Share Net profit before tax (Yuan ¥)   Net worth/Assets  \\\n",
              "2546                                   0.162612           0.829096   \n",
              "\n",
              "       Net profit before tax/Paid-in capital  \\\n",
              "2546                                0.161587   \n",
              "\n",
              "       Working Capital to Total Assets   Retained Earnings to Total Assets  \\\n",
              "2546                          0.702104                            0.926845   \n",
              "\n",
              "       Net Income to Total Assets   Net Income to Stockholder's Equity  \n",
              "2546                      0.78282                             0.838606  "
            ],
            "text/html": [
              "\n",
              "  <div id=\"df-25c38182-eb7c-499b-a664-be18652a340a\">\n",
              "    <div class=\"colab-df-container\">\n",
              "      <div>\n",
              "<style scoped>\n",
              "    .dataframe tbody tr th:only-of-type {\n",
              "        vertical-align: middle;\n",
              "    }\n",
              "\n",
              "    .dataframe tbody tr th {\n",
              "        vertical-align: top;\n",
              "    }\n",
              "\n",
              "    .dataframe thead th {\n",
              "        text-align: right;\n",
              "    }\n",
              "</style>\n",
              "<table border=\"1\" class=\"dataframe\">\n",
              "  <thead>\n",
              "    <tr style=\"text-align: right;\">\n",
              "      <th></th>\n",
              "      <th>Debt ratio %</th>\n",
              "      <th>Borrowing dependency</th>\n",
              "      <th>Current Liability to Assets</th>\n",
              "      <th>Current Liabilities/Equity</th>\n",
              "      <th>Current Liability to Equity</th>\n",
              "      <th>Current Liability to Current Assets</th>\n",
              "      <th>Liability to Equity</th>\n",
              "      <th>ROA(C) before interest and depreciation before interest</th>\n",
              "      <th>ROA(A) before interest and % after tax</th>\n",
              "      <th>ROA(B) before interest and depreciation after tax</th>\n",
              "      <th>Net Value Per Share (B)</th>\n",
              "      <th>Net Value Per Share (A)</th>\n",
              "      <th>Net Value Per Share (C)</th>\n",
              "      <th>Persistent EPS in the Last Four Seasons</th>\n",
              "      <th>Per Share Net profit before tax (Yuan ¥)</th>\n",
              "      <th>Net worth/Assets</th>\n",
              "      <th>Net profit before tax/Paid-in capital</th>\n",
              "      <th>Working Capital to Total Assets</th>\n",
              "      <th>Retained Earnings to Total Assets</th>\n",
              "      <th>Net Income to Total Assets</th>\n",
              "      <th>Net Income to Stockholder's Equity</th>\n",
              "    </tr>\n",
              "  </thead>\n",
              "  <tbody>\n",
              "    <tr>\n",
              "      <th>2546</th>\n",
              "      <td>0.170904</td>\n",
              "      <td>0.377047</td>\n",
              "      <td>0.067646</td>\n",
              "      <td>0.330396</td>\n",
              "      <td>0.330396</td>\n",
              "      <td>0.23804</td>\n",
              "      <td>0.283809</td>\n",
              "      <td>0.447375</td>\n",
              "      <td>0.516572</td>\n",
              "      <td>0.498099</td>\n",
              "      <td>0.16746</td>\n",
              "      <td>0.16746</td>\n",
              "      <td>0.16746</td>\n",
              "      <td>0.204689</td>\n",
              "      <td>0.162612</td>\n",
              "      <td>0.829096</td>\n",
              "      <td>0.161587</td>\n",
              "      <td>0.702104</td>\n",
              "      <td>0.926845</td>\n",
              "      <td>0.78282</td>\n",
              "      <td>0.838606</td>\n",
              "    </tr>\n",
              "  </tbody>\n",
              "</table>\n",
              "</div>\n",
              "      <button class=\"colab-df-convert\" onclick=\"convertToInteractive('df-25c38182-eb7c-499b-a664-be18652a340a')\"\n",
              "              title=\"Convert this dataframe to an interactive table.\"\n",
              "              style=\"display:none;\">\n",
              "        \n",
              "  <svg xmlns=\"http://www.w3.org/2000/svg\" height=\"24px\"viewBox=\"0 0 24 24\"\n",
              "       width=\"24px\">\n",
              "    <path d=\"M0 0h24v24H0V0z\" fill=\"none\"/>\n",
              "    <path d=\"M18.56 5.44l.94 2.06.94-2.06 2.06-.94-2.06-.94-.94-2.06-.94 2.06-2.06.94zm-11 1L8.5 8.5l.94-2.06 2.06-.94-2.06-.94L8.5 2.5l-.94 2.06-2.06.94zm10 10l.94 2.06.94-2.06 2.06-.94-2.06-.94-.94-2.06-.94 2.06-2.06.94z\"/><path d=\"M17.41 7.96l-1.37-1.37c-.4-.4-.92-.59-1.43-.59-.52 0-1.04.2-1.43.59L10.3 9.45l-7.72 7.72c-.78.78-.78 2.05 0 2.83L4 21.41c.39.39.9.59 1.41.59.51 0 1.02-.2 1.41-.59l7.78-7.78 2.81-2.81c.8-.78.8-2.07 0-2.86zM5.41 20L4 18.59l7.72-7.72 1.47 1.35L5.41 20z\"/>\n",
              "  </svg>\n",
              "      </button>\n",
              "      \n",
              "  <style>\n",
              "    .colab-df-container {\n",
              "      display:flex;\n",
              "      flex-wrap:wrap;\n",
              "      gap: 12px;\n",
              "    }\n",
              "\n",
              "    .colab-df-convert {\n",
              "      background-color: #E8F0FE;\n",
              "      border: none;\n",
              "      border-radius: 50%;\n",
              "      cursor: pointer;\n",
              "      display: none;\n",
              "      fill: #1967D2;\n",
              "      height: 32px;\n",
              "      padding: 0 0 0 0;\n",
              "      width: 32px;\n",
              "    }\n",
              "\n",
              "    .colab-df-convert:hover {\n",
              "      background-color: #E2EBFA;\n",
              "      box-shadow: 0px 1px 2px rgba(60, 64, 67, 0.3), 0px 1px 3px 1px rgba(60, 64, 67, 0.15);\n",
              "      fill: #174EA6;\n",
              "    }\n",
              "\n",
              "    [theme=dark] .colab-df-convert {\n",
              "      background-color: #3B4455;\n",
              "      fill: #D2E3FC;\n",
              "    }\n",
              "\n",
              "    [theme=dark] .colab-df-convert:hover {\n",
              "      background-color: #434B5C;\n",
              "      box-shadow: 0px 1px 3px 1px rgba(0, 0, 0, 0.15);\n",
              "      filter: drop-shadow(0px 1px 2px rgba(0, 0, 0, 0.3));\n",
              "      fill: #FFFFFF;\n",
              "    }\n",
              "  </style>\n",
              "\n",
              "      <script>\n",
              "        const buttonEl =\n",
              "          document.querySelector('#df-25c38182-eb7c-499b-a664-be18652a340a button.colab-df-convert');\n",
              "        buttonEl.style.display =\n",
              "          google.colab.kernel.accessAllowed ? 'block' : 'none';\n",
              "\n",
              "        async function convertToInteractive(key) {\n",
              "          const element = document.querySelector('#df-25c38182-eb7c-499b-a664-be18652a340a');\n",
              "          const dataTable =\n",
              "            await google.colab.kernel.invokeFunction('convertToInteractive',\n",
              "                                                     [key], {});\n",
              "          if (!dataTable) return;\n",
              "\n",
              "          const docLinkHtml = 'Like what you see? Visit the ' +\n",
              "            '<a target=\"_blank\" href=https://colab.research.google.com/notebooks/data_table.ipynb>data table notebook</a>'\n",
              "            + ' to learn more about interactive tables.';\n",
              "          element.innerHTML = '';\n",
              "          dataTable['output_type'] = 'display_data';\n",
              "          await google.colab.output.renderOutput(dataTable, element);\n",
              "          const docLink = document.createElement('div');\n",
              "          docLink.innerHTML = docLinkHtml;\n",
              "          element.appendChild(docLink);\n",
              "        }\n",
              "      </script>\n",
              "    </div>\n",
              "  </div>\n",
              "  "
            ]
          },
          "metadata": {},
          "execution_count": 50
        }
      ],
      "source": [
        "x_test.iloc[0:1,:]"
      ]
    },
    {
      "cell_type": "code",
      "execution_count": null,
      "metadata": {
        "colab": {
          "base_uri": "https://localhost:8080/"
        },
        "id": "iefO2CULmiFT",
        "outputId": "2627da83-14a2-4595-a7ab-82f018a11646"
      },
      "outputs": [
        {
          "output_type": "execute_result",
          "data": {
            "text/plain": [
              "2546    0\n",
              "Name: Bankrupt?, dtype: int64"
            ]
          },
          "metadata": {},
          "execution_count": 51
        }
      ],
      "source": [
        "y_test.iloc[0:1]"
      ]
    },
    {
      "cell_type": "code",
      "execution_count": null,
      "metadata": {
        "colab": {
          "base_uri": "https://localhost:8080/"
        },
        "id": "065ab33e",
        "outputId": "63d6803f-cb81-4607-956a-06bcf6fb4234"
      },
      "outputs": [
        {
          "output_type": "stream",
          "name": "stderr",
          "text": [
            "/usr/local/lib/python3.7/dist-packages/sklearn/base.py:451: UserWarning: X does not have valid feature names, but RandomForestClassifier was fitted with feature names\n",
            "  \"X does not have valid feature names, but\"\n"
          ]
        },
        {
          "output_type": "execute_result",
          "data": {
            "text/plain": [
              "array([0])"
            ]
          },
          "metadata": {},
          "execution_count": 52
        }
      ],
      "source": [
        "reg.predict([[0.032651,0.369637,0.033276,0.327166,0.327166,0.015401,0.275606,0.505826,0.556313,0.554741,0.17454,0.17454,0.17454,0.220006,0.176245,0.967349,0.174904,0.813702,0.938638,0.811413,0.840849]])"
      ]
    }
  ],
  "metadata": {
    "colab": {
      "collapsed_sections": [
        "LGcl5Bv9ed6u",
        "AzGDqdC4fZ-b"
      ],
      "name": "COMPANY BANKRUPTCY PREDICTION.ipynb",
      "provenance": []
    },
    "kernelspec": {
      "display_name": "Python 3",
      "language": "python",
      "name": "python3"
    },
    "language_info": {
      "codemirror_mode": {
        "name": "ipython",
        "version": 3
      },
      "file_extension": ".py",
      "mimetype": "text/x-python",
      "name": "python",
      "nbconvert_exporter": "python",
      "pygments_lexer": "ipython3",
      "version": "3.8.8"
    }
  },
  "nbformat": 4,
  "nbformat_minor": 0
}